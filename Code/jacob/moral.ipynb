{
 "cells": [
  {
   "cell_type": "code",
   "execution_count": 5,
   "id": "511cce49",
   "metadata": {},
   "outputs": [
    {
     "data": {
      "application/vnd.microsoft.datawrangler.viewer.v0+json": {
       "columns": [
        {
         "name": "index",
         "rawType": "int64",
         "type": "integer"
        },
        {
         "name": "Text",
         "rawType": "object",
         "type": "string"
        },
        {
         "name": "ID",
         "rawType": "object",
         "type": "string"
        },
        {
         "name": "Words",
         "rawType": "float64",
         "type": "float"
        },
        {
         "name": "cleaned_text",
         "rawType": "object",
         "type": "string"
        },
        {
         "name": "corrected",
         "rawType": "object",
         "type": "string"
        },
        {
         "name": "HarmVirtue",
         "rawType": "int64",
         "type": "integer"
        },
        {
         "name": "HarmVice",
         "rawType": "int64",
         "type": "integer"
        },
        {
         "name": "FairnessVirtue",
         "rawType": "int64",
         "type": "integer"
        },
        {
         "name": "FairnessVice",
         "rawType": "int64",
         "type": "integer"
        },
        {
         "name": "IngroupVirtue",
         "rawType": "int64",
         "type": "integer"
        },
        {
         "name": "IngroupVice",
         "rawType": "int64",
         "type": "integer"
        },
        {
         "name": "AuthorityVirtue",
         "rawType": "int64",
         "type": "integer"
        },
        {
         "name": "AuthorityVice",
         "rawType": "int64",
         "type": "integer"
        },
        {
         "name": "PurityVirtue",
         "rawType": "int64",
         "type": "integer"
        },
        {
         "name": "PurityVice",
         "rawType": "int64",
         "type": "integer"
        },
        {
         "name": "MoralityGeneral",
         "rawType": "int64",
         "type": "integer"
        }
       ],
       "conversionMethod": "pd.DataFrame",
       "ref": "fd94b95c-b32b-44aa-80c6-93be5ff86615",
       "rows": [
        [
         "0",
         "ID: N17933D----------------------I live in a flat with my friend who is a teacher. I am a secutery I work in an office for a travel agent. We are both good friends and we cook our own meals and enjoy it alot. I go and visit my parents quite a lot, about 3 times a week I have to go quite a long way. I've got a dog which I take out every morning before breakfast (becasue he is very lively). We live near the city centre so I can easily get to the shops and things. Sometimes at night my friend and I go out to the park ( which is near our house) and we play tennis on the courts there. Every Saturday we mostly go to town and look round the shops at clothes and for groceries. My friend is an infant teacher and she enjoys her job very much, I also enjoy my job very much.  Words: 158",
         "N17933D",
         "158.0",
         "I live in a flat with my friend who is a teacher. I am a secutery I work in an office for a travel agent. We are both good friends and we cook our own meals and enjoy it alot. I go and visit my parents quite a lot, about 3 times a week I have to go quite a long way. I've got a dog which I take out every morning before breakfast (becasue he is very lively). We live near the city centre so I can easily get to the shops and things. Sometimes at night my friend and I go out to the park ( which is near our house) and we play tennis on the courts there. Every Saturday we mostly go to town and look round the shops at clothes and for groceries. My friend is an infant teacher and she enjoys her job very much, I also enjoy my job very much.  Words: 158",
         "I live in a flat with my friend who is a teacher. I am a secretary I work in an office for a travel agent. We are both good friends and we cook our own meals and enjoy it alot. I go and visit my parents quite a lot, about three times a week I have to go quite a long way. I've got a dog which I take out every morning before breakfast because he is very lively. We live near the city centre so I can easily get to the shops and things. Sometimes at night my friend and I go out to the park (which is near our house) and we play tennis on the courts there. Every Saturday we mostly go to town and look round the shops at clothes and for groceries. My friend is an infant teacher and she enjoys her job very much, I also enjoy my job very much.",
         "0",
         "0",
         "0",
         "0",
         "0",
         "0",
         "0",
         "0",
         "0",
         "0",
         "1"
        ],
        [
         "1",
         "ID: N25886L----------------------I am 25 and living in a old cottega hose I am an alter and hove had two books pulis witing stories is my work and the two books wish I have had pudlises have been Quite suksefall. I live with two frends and we all help to look after owr home it is peirsfall in owr cotteg for it is out in the contry I specley chose the hose for with noise going* on it can be hard to consonderat witing I go to twon ever week end and do shoping wich will have a week serply other wise I would have to ceep having to go to twon I have a car (my own car) wich comes in veay use full and saves a long drerey walk up a long drerey hill to a bus stop wich I use to have to do be for a borthe my car it is second hand car and not all that fanciy but all that relley mater is if it works or not not its looks it can carry four pepel for confart but if five get in the car the swese is not to bad My home has Quite a big garden and when I can I do some work or rater weding I have an el**rit lorn mover wish get cuting the grass Quite Quikley onec it gets sated for it bends to get Jamed rather alot. In the winter the snow can be deep and can some twnes stop me from geting to town so I have to fone for food to be broth to me and for my home to be duge out from the snow. In the sumer it can get veay hot so I have had a small swiming pool wish is 5ft deep both ends it is a keney shap and it is good to get in to it when it is hot so that leves do not fall in there is a plostik cover that gose over the pool when needed my hair is Quite long and I ofen dress in troses I have two boy frends thow they do not come round to my hose all that ofen. I try to get out in the sumer and some times go for a hoday at the sea with my frends at the sea there are many good draing to draw and I find that Quit a lot of the time I am draing when I am on hoilday and some thimes use them to illustrate my stories.  Words: 424",
         "N25886L",
         "424.0",
         "I am 25 and living in a old cottega hose I am an alter and hove had two books pulis witing stories is my work and the two books wish I have had pudlises have been Quite suksefall. I live with two frends and we all help to look after owr home it is peirsfall in owr cotteg for it is out in the contry I specley chose the hose for with noise going* on it can be hard to consonderat witing I go to twon ever week end and do shoping wich will have a week serply other wise I would have to ceep having to go to twon I have a car (my own car) wich comes in veay use full and saves a long drerey walk up a long drerey hill to a bus stop wich I use to have to do be for a borthe my car it is second hand car and not all that fanciy but all that relley mater is if it works or not not its looks it can carry four pepel for confart but if five get in the car the swese is not to bad My home has Quite a big garden and when I can I do some work or rater weding I have an el**rit lorn mover wish get cuting the grass Quite Quikley onec it gets sated for it bends to get Jamed rather alot. In the winter the snow can be deep and can some twnes stop me from geting to town so I have to fone for food to be broth to me and for my home to be duge out from the snow. In the sumer it can get veay hot so I have had a small swiming pool wish is 5ft deep both ends it is a keney shap and it is good to get in to it when it is hot so that leves do not fall in there is a plostik cover that gose over the pool when needed my hair is Quite long and I ofen dress in troses I have two boy frends thow they do not come round to my hose all that ofen. I try to get out in the sumer and some times go for a hoday at the sea with my frends at the sea there are many good draing to draw and I find that Quit a lot of the time I am draing when I am on hoilday and some thimes use them to illustrate my stories.  Words: 424",
         "I am 25 and living in an old cottage house. I am an altar and have had two books published writing stories is my work and the two books wish I have had publications have been Quite successful.\n\nI live with two friends and we all help to look after our home it is perfect in our cottage for it is out in the country I specially chose the house for with noise going on it can be hard to consider writing. I go to town every weekend and do shopping which will have a week's supply otherwise I would have to keep having to go to town. I have a car (my own car) which comes in very useful full and saves a long dreary walk up a long dreary hill to a bus stop which I used to have to do before a birth my car it is second-hand car and not all that fancy but all that really matters is if it works or not it's looks it can carry four people for comfort but if five get in the car the swerve is not too bad.\n\nMy home has Quite a big garden and when I can I do some work or rather wedging. I have an electric lawn mower which gets cutting the grass Quite Quickly once it gets saturated for it bends to get jammed rather alot. In the winter the snow can be deep and can stop me from getting to town so I have to phone for food to be brought to me and for my home to be dug out from the snow. In the summer it can get very hot so I have had a small swimming pool which is 5ft deep both ends it is a kidney shape and it is good to get in to it when it is hot so that leaves do not fall in there is a plastic cover that goes over the pool when needed my hair is Quite long and I often dress in tweeds. I have two boy friends though they do not come round to my house all that often. I try to get out in the summer and sometimes go for a holiday at the sea with my friends at the sea there are many good drains to draw and I find that Quite a lot of the time I am drawing when I am on holiday and some times use them to illustrate my stories.",
         "0",
         "0",
         "0",
         "0",
         "2",
         "0",
         "1",
         "0",
         "0",
         "0",
         "3"
        ],
        [
         "2",
         "ID: N17099U----------------------On my 25 birthday there was a lot of things going on. We had a party. There were ten people. We had a lot of fun we had a kined* of Buffa. Most of the time we were talking the party went on till lake in the morning I got up late and did not go to work so that ment that I got into truble by my boss. I work a * shorthand tyepest it is very nice there are a lot of my friends there and we talk when the boss is out. Some times we have to do siscty letters day when we get home I gust flop down and day I am tierd then I have my tea at 6-30 pm. Then I go out when I come in it is about 11-30 pm in the morning I went I was too early I had to wate for ten mins when thay opened there was half the staf* * away so that ment more work for me and my friends we did over 100 letters are arms were acking so much that I was shaking all over my auntie wonderd what was the matter I told he what had happend Inall* she sent me to bed with a hot cup cocoa the next morning I did not go into the office the manager rung up to see what was the matter she said that I was over worked and would not be going in for at least a week but I went back befor a week was up. Because the office needed me when I went back I heard that the manger was leaving so that ment that we would all have diverent jobs to do It was said that I was the mangers short hand tyepest. I went home and told my auntie and she did not belive it now I am happy at my job.  Words: 321",
         "N17099U",
         "321.0",
         "On my 25 birthday there was a lot of things going on. We had a party. There were ten people. We had a lot of fun we had a kined* of Buffa. Most of the time we were talking the party went on till lake in the morning I got up late and did not go to work so that ment that I got into truble by my boss. I work a * shorthand tyepest it is very nice there are a lot of my friends there and we talk when the boss is out. Some times we have to do siscty letters day when we get home I gust flop down and day I am tierd then I have my tea at 6-30 pm. Then I go out when I come in it is about 11-30 pm in the morning I went I was too early I had to wate for ten mins when thay opened there was half the staf* * away so that ment more work for me and my friends we did over 100 letters are arms were acking so much that I was shaking all over my auntie wonderd what was the matter I told he what had happend Inall* she sent me to bed with a hot cup cocoa the next morning I did not go into the office the manager rung up to see what was the matter she said that I was over worked and would not be going in for at least a week but I went back befor a week was up. Because the office needed me when I went back I heard that the manger was leaving so that ment that we would all have diverent jobs to do It was said that I was the mangers short hand tyepest. I went home and told my auntie and she did not belive it now I am happy at my job.  Words: 321",
         "On my 25th birthday there was a lot of things going on. We had a party. There were ten people. We had a kind of Buffalo beef. Most of the time we were talking about the party which went on till late in the morning I got up late and did not go to work so that meant that I got into trouble by my boss. I worked at shorthand typewriter it is very nice there are a lot of my friends there and we talk when the boss is out. Some times we have to do fifty letters a day when we get home I just flop down and feel tired then I have my tea at 6:30 pm. Then I go out when I come in it is about 11:30 pm in the morning I went there was too early I had to wait for ten minutes when they opened there was half the staff away so that meant more work for me and my friends we did over 100 letters our arms were aching so much that I was shaking all over my auntie wondered what was the matter I told her what had happened Inshallah she sent me to bed with a hot cup of cocoa the next morning I did not go into the office the manager rang up to see what was the matter she said that I was overworked and would not be going in for at least a week but I went back before a week was up. Because the office needed me when I went back I heard that the manager was leaving so that meant that we would all have different jobs to do It was said that I was the manager's shorthand typist. I went home and told my auntie and she did not believe it now I am happy at my job.",
         "0",
         "0",
         "0",
         "0",
         "0",
         "0",
         "0",
         "0",
         "0",
         "0",
         "0"
        ],
        [
         "3",
         "ID: N27096W----------------------My name is [female name] [surname] and I work at a factory. I am married and I have one child named [female name] and she is five. We live in a large house with a small swimming pool in. My child has to go to a nursery school from 10o'clock to 4 o' clock. My husband works at a bank. I like reading books and listening to pop music and I like going to the cinema. My husband gets 30 pounds a week and I get 20 pounds. Next year my child will go to school and I will have to stop my job because [female name] will come out at 3.30. and I finish my job at 4 o' clock. Nearly every Sunday my mother and father come to see us and they stay to tea. We are going to move soon so we will not see out mother and father. We are going to Australia. Where my aunt lives, in Queensland. We are going in one years time. They say its hot there but I think we will manage. My husband will be a sheep-shearer and he will earn 22 pounds a week.  Words: 195",
         "N27096W",
         "195.0",
         "My name is [female name] [surname] and I work at a factory. I am married and I have one child named [female name] and she is five. We live in a large house with a small swimming pool in. My child has to go to a nursery school from 10o'clock to 4 o' clock. My husband works at a bank. I like reading books and listening to pop music and I like going to the cinema. My husband gets 30 pounds a week and I get 20 pounds. Next year my child will go to school and I will have to stop my job because [female name] will come out at 3.30. and I finish my job at 4 o' clock. Nearly every Sunday my mother and father come to see us and they stay to tea. We are going to move soon so we will not see out mother and father. We are going to Australia. Where my aunt lives, in Queensland. We are going in one years time. They say its hot there but I think we will manage. My husband will be a sheep-shearer and he will earn 22 pounds a week.  Words: 195",
         "My name is [female name] [surname] and I work at a factory. I am married and I have one child named [female name] and she is five. We live in a large house with a small swimming pool inside. My child has to go to a nursery school from ten o'clock to four o'clock. My husband works at a bank. I like reading books and listening to pop music and I like going to the cinema. My husband gets 30 pounds a week and I get 20 pounds. Next year my child will go to school and I will have to stop my job because [female name] will come out at three thirty and I finish my job at four o'clock. Nearly every Sunday my mother and father come to see us and they stay for tea. We are going to move soon so we will not see our mother and father. We are going to Australia, where my aunt lives in Queensland. We are going there in one year's time. They say it's hot there but I think we will manage. My husband will be a sheep-shearer and he will earn 22 pounds a week.",
         "0",
         "0",
         "0",
         "0",
         "0",
         "0",
         "4",
         "0",
         "0",
         "0",
         "0"
        ],
        [
         "4",
         "ID: N27472A----------------------If I was twentey five yaras of age I would get a job I might get marided and have two children. If I got a good job I will get a lot of money and go to spain and have a good time and my sort of jod would be A doctor where I, would get a lot of mony then and I will helpe in the Hospittel and in my office. I would have an house of my own and a poshich sports car If I had a lot of thengs and I didont have in of mony I would go the Bank and get some and pay it back out of my mony what I have [illegible] out every week if I did not whant to be a docter eny more I would get a nother good jod and won what I like better and what I enjoy dowing I would like to be a footballer or a bus condocter I would like to be the [illegible] captin of teh [xxxxxxx] Boys [illegible] and A clarch I wold like a jod thet isant a hard working jod like a man who digs roads at home I do warching ap mented chldren boys and its mend things what we need. At home I go to work at 5'0 clak at the morning till 7-o-clack in the night If I got a footballer or a rugby playre I wil go trangy  Words: 241",
         "N27472A",
         "241.0",
         "If I was twentey five yaras of age I would get a job I might get marided and have two children. If I got a good job I will get a lot of money and go to spain and have a good time and my sort of jod would be A doctor where I, would get a lot of mony then and I will helpe in the Hospittel and in my office. I would have an house of my own and a poshich sports car If I had a lot of thengs and I didont have in of mony I would go the Bank and get some and pay it back out of my mony what I have [illegible] out every week if I did not whant to be a docter eny more I would get a nother good jod and won what I like better and what I enjoy dowing I would like to be a footballer or a bus condocter I would like to be the [illegible] captin of teh [xxxxxxx] Boys [illegible] and A clarch I wold like a jod thet isant a hard working jod like a man who digs roads at home I do warching ap mented chldren boys and its mend things what we need. At home I go to work at 5'0 clak at the morning till 7-o-clack in the night If I got a footballer or a rugby playre I wil go trangy  Words: 241",
         "If I was twenty-five years of age I would get a job I might get married and have two children. If I got a good job I will get a lot of money and go to Spain and have a good time and my sort of job would be A doctor where I, would get a lot of money then and I will help in the Hospital and in my office. I would have an house of my own and a poshich sports car If I had a lot of things and I did not have any money I would go to the Bank and get some and pay it back out of my money what I have [illegible] out every week if I did not want to be a doctor eny more I would get another good job and won what I like better and what I enjoy doing I would like to be a footballer or a bus conductor I would like to be the [xxxxxxx] Boys Captain of the [xxxxxxx] and A clerk I would like a job that is not a hard working job like a man who digs roads at home I am watching an amended child's boys and it makes things what we need. At home I go to work at 5'0 clack at the morning till 7-o-clack in the night If I got a footballer or a rugby player I will go transversely",
         "0",
         "0",
         "0",
         "0",
         "0",
         "0",
         "0",
         "0",
         "0",
         "0",
         "3"
        ]
       ],
       "shape": {
        "columns": 16,
        "rows": 5
       }
      },
      "text/html": [
       "<div>\n",
       "<style scoped>\n",
       "    .dataframe tbody tr th:only-of-type {\n",
       "        vertical-align: middle;\n",
       "    }\n",
       "\n",
       "    .dataframe tbody tr th {\n",
       "        vertical-align: top;\n",
       "    }\n",
       "\n",
       "    .dataframe thead th {\n",
       "        text-align: right;\n",
       "    }\n",
       "</style>\n",
       "<table border=\"1\" class=\"dataframe\">\n",
       "  <thead>\n",
       "    <tr style=\"text-align: right;\">\n",
       "      <th></th>\n",
       "      <th>Text</th>\n",
       "      <th>ID</th>\n",
       "      <th>Words</th>\n",
       "      <th>cleaned_text</th>\n",
       "      <th>corrected</th>\n",
       "      <th>HarmVirtue</th>\n",
       "      <th>HarmVice</th>\n",
       "      <th>FairnessVirtue</th>\n",
       "      <th>FairnessVice</th>\n",
       "      <th>IngroupVirtue</th>\n",
       "      <th>IngroupVice</th>\n",
       "      <th>AuthorityVirtue</th>\n",
       "      <th>AuthorityVice</th>\n",
       "      <th>PurityVirtue</th>\n",
       "      <th>PurityVice</th>\n",
       "      <th>MoralityGeneral</th>\n",
       "    </tr>\n",
       "  </thead>\n",
       "  <tbody>\n",
       "    <tr>\n",
       "      <th>0</th>\n",
       "      <td>ID: N17933D----------------------I live in a f...</td>\n",
       "      <td>N17933D</td>\n",
       "      <td>158.0</td>\n",
       "      <td>I live in a flat with my friend who is a teach...</td>\n",
       "      <td>I live in a flat with my friend who is a teach...</td>\n",
       "      <td>0</td>\n",
       "      <td>0</td>\n",
       "      <td>0</td>\n",
       "      <td>0</td>\n",
       "      <td>0</td>\n",
       "      <td>0</td>\n",
       "      <td>0</td>\n",
       "      <td>0</td>\n",
       "      <td>0</td>\n",
       "      <td>0</td>\n",
       "      <td>1</td>\n",
       "    </tr>\n",
       "    <tr>\n",
       "      <th>1</th>\n",
       "      <td>ID: N25886L----------------------I am 25 and l...</td>\n",
       "      <td>N25886L</td>\n",
       "      <td>424.0</td>\n",
       "      <td>I am 25 and living in a old cottega hose I am ...</td>\n",
       "      <td>I am 25 and living in an old cottage house. I ...</td>\n",
       "      <td>0</td>\n",
       "      <td>0</td>\n",
       "      <td>0</td>\n",
       "      <td>0</td>\n",
       "      <td>2</td>\n",
       "      <td>0</td>\n",
       "      <td>1</td>\n",
       "      <td>0</td>\n",
       "      <td>0</td>\n",
       "      <td>0</td>\n",
       "      <td>3</td>\n",
       "    </tr>\n",
       "    <tr>\n",
       "      <th>2</th>\n",
       "      <td>ID: N17099U----------------------On my 25 birt...</td>\n",
       "      <td>N17099U</td>\n",
       "      <td>321.0</td>\n",
       "      <td>On my 25 birthday there was a lot of things go...</td>\n",
       "      <td>On my 25th birthday there was a lot of things ...</td>\n",
       "      <td>0</td>\n",
       "      <td>0</td>\n",
       "      <td>0</td>\n",
       "      <td>0</td>\n",
       "      <td>0</td>\n",
       "      <td>0</td>\n",
       "      <td>0</td>\n",
       "      <td>0</td>\n",
       "      <td>0</td>\n",
       "      <td>0</td>\n",
       "      <td>0</td>\n",
       "    </tr>\n",
       "    <tr>\n",
       "      <th>3</th>\n",
       "      <td>ID: N27096W----------------------My name is [f...</td>\n",
       "      <td>N27096W</td>\n",
       "      <td>195.0</td>\n",
       "      <td>My name is [female name] [surname] and I work ...</td>\n",
       "      <td>My name is [female name] [surname] and I work ...</td>\n",
       "      <td>0</td>\n",
       "      <td>0</td>\n",
       "      <td>0</td>\n",
       "      <td>0</td>\n",
       "      <td>0</td>\n",
       "      <td>0</td>\n",
       "      <td>4</td>\n",
       "      <td>0</td>\n",
       "      <td>0</td>\n",
       "      <td>0</td>\n",
       "      <td>0</td>\n",
       "    </tr>\n",
       "    <tr>\n",
       "      <th>4</th>\n",
       "      <td>ID: N27472A----------------------If I was twen...</td>\n",
       "      <td>N27472A</td>\n",
       "      <td>241.0</td>\n",
       "      <td>If I was twentey five yaras of age I would get...</td>\n",
       "      <td>If I was twenty-five years of age I would get ...</td>\n",
       "      <td>0</td>\n",
       "      <td>0</td>\n",
       "      <td>0</td>\n",
       "      <td>0</td>\n",
       "      <td>0</td>\n",
       "      <td>0</td>\n",
       "      <td>0</td>\n",
       "      <td>0</td>\n",
       "      <td>0</td>\n",
       "      <td>0</td>\n",
       "      <td>3</td>\n",
       "    </tr>\n",
       "  </tbody>\n",
       "</table>\n",
       "</div>"
      ],
      "text/plain": [
       "                                                Text       ID  Words  \\\n",
       "0  ID: N17933D----------------------I live in a f...  N17933D  158.0   \n",
       "1  ID: N25886L----------------------I am 25 and l...  N25886L  424.0   \n",
       "2  ID: N17099U----------------------On my 25 birt...  N17099U  321.0   \n",
       "3  ID: N27096W----------------------My name is [f...  N27096W  195.0   \n",
       "4  ID: N27472A----------------------If I was twen...  N27472A  241.0   \n",
       "\n",
       "                                        cleaned_text  \\\n",
       "0  I live in a flat with my friend who is a teach...   \n",
       "1  I am 25 and living in a old cottega hose I am ...   \n",
       "2  On my 25 birthday there was a lot of things go...   \n",
       "3  My name is [female name] [surname] and I work ...   \n",
       "4  If I was twentey five yaras of age I would get...   \n",
       "\n",
       "                                           corrected  HarmVirtue  HarmVice  \\\n",
       "0  I live in a flat with my friend who is a teach...           0         0   \n",
       "1  I am 25 and living in an old cottage house. I ...           0         0   \n",
       "2  On my 25th birthday there was a lot of things ...           0         0   \n",
       "3  My name is [female name] [surname] and I work ...           0         0   \n",
       "4  If I was twenty-five years of age I would get ...           0         0   \n",
       "\n",
       "   FairnessVirtue  FairnessVice  IngroupVirtue  IngroupVice  AuthorityVirtue  \\\n",
       "0               0             0              0            0                0   \n",
       "1               0             0              2            0                1   \n",
       "2               0             0              0            0                0   \n",
       "3               0             0              0            0                4   \n",
       "4               0             0              0            0                0   \n",
       "\n",
       "   AuthorityVice  PurityVirtue  PurityVice  MoralityGeneral  \n",
       "0              0             0           0                1  \n",
       "1              0             0           0                3  \n",
       "2              0             0           0                0  \n",
       "3              0             0           0                0  \n",
       "4              0             0           0                3  "
      ]
     },
     "execution_count": 5,
     "metadata": {},
     "output_type": "execute_result"
    }
   ],
   "source": [
    "import pandas as pd\n",
    "import re\n",
    "from collections import defaultdict\n",
    "\n",
    "# Load your essay file\n",
    "path = \"/home/semipro321/OneDrive/School/McGill/Research Projects/Essay/\"\n",
    "df = pd.read_csv(path + \"essays_corrected_200.csv\")\n",
    "\n",
    "# Load and parse the MFD dictionary\n",
    "dic_path = \"/home/semipro321/OneDrive/School/McGill/Research Projects/Essay/Code/jacob/moral.dic\"\n",
    "with open(dic_path, \"r\") as f:\n",
    "    lines = f.readlines()\n",
    "\n",
    "category_map = {\n",
    "    \"01\": \"HarmVirtue\",\n",
    "    \"02\": \"HarmVice\",\n",
    "    \"03\": \"FairnessVirtue\",\n",
    "    \"04\": \"FairnessVice\",\n",
    "    \"05\": \"IngroupVirtue\",\n",
    "    \"06\": \"IngroupVice\",\n",
    "    \"07\": \"AuthorityVirtue\",\n",
    "    \"08\": \"AuthorityVice\",\n",
    "    \"09\": \"PurityVirtue\",\n",
    "    \"10\": \"PurityVice\",\n",
    "    \"11\": \"MoralityGeneral\"\n",
    "}\n",
    "\n",
    "# Build regex dictionary\n",
    "mfd_dict = defaultdict(list)\n",
    "# Correct parsing of .dic file with multiple tabs/spaces\n",
    "for line in lines:\n",
    "    if line.strip() == \"\" or line.startswith(\"%\"):\n",
    "        continue\n",
    "    parts = re.split(r\"\\s{2,}|\\t+\", line.strip())  # split on tabs or 2+ spaces\n",
    "    word_pattern = parts[0].replace(\"*\", r\"\\w*\")\n",
    "    for cat in parts[1:]:\n",
    "        cat = cat.strip()\n",
    "        if cat in category_map:\n",
    "            mfd_dict[category_map[cat]].append(word_pattern)\n",
    "\n",
    "# Compile regex patterns once for efficiency\n",
    "compiled_mfd = {\n",
    "    cat: [re.compile(pattern, re.IGNORECASE) for pattern in patterns]\n",
    "    for cat, patterns in mfd_dict.items()\n",
    "}\n",
    "\n",
    "# Function to count moral words in an essay\n",
    "def count_mfd_words(text, compiled_mfd):\n",
    "    counts = {cat: 0 for cat in compiled_mfd}\n",
    "    for cat, regexes in compiled_mfd.items():\n",
    "        for pattern in regexes:\n",
    "            matches = pattern.findall(text)\n",
    "            counts[cat] += len(matches)\n",
    "    return counts\n",
    "\n",
    "# Apply to each essay\n",
    "results = df[\"corrected\"].apply(lambda x: count_mfd_words(str(x), compiled_mfd))\n",
    "mfd_df = pd.DataFrame(results.tolist())\n",
    "\n",
    "# Combine with original dataframe\n",
    "df_mfd = pd.concat([df, mfd_df], axis=1)\n",
    "\n",
    "# View result\n",
    "df_mfd.head()\n"
   ]
  },
  {
   "cell_type": "code",
   "execution_count": 10,
   "id": "905c3b14",
   "metadata": {},
   "outputs": [
    {
     "data": {
      "image/png": "[encoded data removed]",
      "text/plain": [
       "<Figure size 1000x500 with 1 Axes>"
      ]
     },
     "metadata": {},
     "output_type": "display_data"
    },
    {
     "data": {
      "image/png": "[encoded data removed]",
      "text/plain": [
       "<Figure size 1000x500 with 1 Axes>"
      ]
     },
     "metadata": {},
     "output_type": "display_data"
    }
   ],
   "source": [
    "from scipy.stats import skew, kurtosis\n",
    "\n",
    "# Select only the MFD columns\n",
    "mfd_columns = list(mfd_df.columns.difference(df.columns))\n",
    "mfd_scores = mfd_df[mfd_columns]\n",
    "\n",
    "# Compute moments\n",
    "moments = pd.DataFrame({\n",
    "    \"mean\": mfd_scores.mean(),\n",
    "    \"variance\": mfd_scores.var(),\n",
    "    \"skewness\": mfd_scores.apply(skew),\n",
    "    \"kurtosis\": mfd_scores.apply(kurtosis)\n",
    "}).round(3)\n",
    "\n",
    "# Show the results\n",
    "import matplotlib.pyplot as plt\n",
    "import seaborn as sns\n",
    "\n",
    "\n",
    "# Optional: Visualize means and variances\n",
    "plt.figure(figsize=(10, 5))\n",
    "sns.barplot(x=moments.index, y=moments[\"mean\"])\n",
    "plt.title(\"Mean MFD Scores per Category\")\n",
    "plt.xticks(rotation=45)\n",
    "plt.tight_layout()\n",
    "plt.show()\n",
    "\n",
    "plt.figure(figsize=(10, 5))\n",
    "sns.barplot(x=moments.index, y=moments[\"variance\"])\n",
    "plt.title(\"Variance of MFD Scores per Category\")\n",
    "plt.xticks(rotation=45)\n",
    "plt.tight_layout()\n",
    "plt.show()\n"
   ]
  },
  {
   "cell_type": "code",
   "execution_count": 12,
   "id": "c6e169f5",
   "metadata": {},
   "outputs": [
    {
     "data": {
      "application/vnd.microsoft.datawrangler.viewer.v0+json": {
       "columns": [
        {
         "name": "index",
         "rawType": "object",
         "type": "string"
        },
        {
         "name": "mean",
         "rawType": "float64",
         "type": "float"
        },
        {
         "name": "variance",
         "rawType": "float64",
         "type": "float"
        },
        {
         "name": "skewness",
         "rawType": "float64",
         "type": "float"
        },
        {
         "name": "kurtosis",
         "rawType": "float64",
         "type": "float"
        }
       ],
       "conversionMethod": "pd.DataFrame",
       "ref": "89da23c7-7ff9-4e18-94e8-1eb6cf400de7",
       "rows": [
        [
         "AuthorityVice",
         "0.0",
         "0.0",
         null,
         null
        ],
        [
         "AuthorityVirtue",
         "0.795",
         "2.033",
         "2.376",
         "5.978"
        ],
        [
         "FairnessVice",
         "0.0",
         "0.0",
         null,
         null
        ],
        [
         "FairnessVirtue",
         "0.085",
         "0.149",
         "4.519",
         "19.038"
        ],
        [
         "HarmVice",
         "0.235",
         "0.542",
         "3.912",
         "16.683"
        ],
        [
         "HarmVirtue",
         "0.12",
         "0.146",
         "3.885",
         "18.869"
        ],
        [
         "IngroupVice",
         "0.015",
         "0.015",
         "7.98",
         "61.682"
        ],
        [
         "IngroupVirtue",
         "0.495",
         "0.784",
         "2.694",
         "9.796"
        ],
        [
         "MoralityGeneral",
         "0.575",
         "0.849",
         "1.983",
         "4.227"
        ],
        [
         "PurityVice",
         "0.245",
         "0.377",
         "3.33",
         "13.834"
        ],
        [
         "PurityVirtue",
         "0.185",
         "0.252",
         "2.942",
         "8.75"
        ]
       ],
       "shape": {
        "columns": 4,
        "rows": 11
       }
      },
      "text/html": [
       "<div>\n",
       "<style scoped>\n",
       "    .dataframe tbody tr th:only-of-type {\n",
       "        vertical-align: middle;\n",
       "    }\n",
       "\n",
       "    .dataframe tbody tr th {\n",
       "        vertical-align: top;\n",
       "    }\n",
       "\n",
       "    .dataframe thead th {\n",
       "        text-align: right;\n",
       "    }\n",
       "</style>\n",
       "<table border=\"1\" class=\"dataframe\">\n",
       "  <thead>\n",
       "    <tr style=\"text-align: right;\">\n",
       "      <th></th>\n",
       "      <th>mean</th>\n",
       "      <th>variance</th>\n",
       "      <th>skewness</th>\n",
       "      <th>kurtosis</th>\n",
       "    </tr>\n",
       "  </thead>\n",
       "  <tbody>\n",
       "    <tr>\n",
       "      <th>AuthorityVice</th>\n",
       "      <td>0.000</td>\n",
       "      <td>0.000</td>\n",
       "      <td>NaN</td>\n",
       "      <td>NaN</td>\n",
       "    </tr>\n",
       "    <tr>\n",
       "      <th>AuthorityVirtue</th>\n",
       "      <td>0.795</td>\n",
       "      <td>2.033</td>\n",
       "      <td>2.376</td>\n",
       "      <td>5.978</td>\n",
       "    </tr>\n",
       "    <tr>\n",
       "      <th>FairnessVice</th>\n",
       "      <td>0.000</td>\n",
       "      <td>0.000</td>\n",
       "      <td>NaN</td>\n",
       "      <td>NaN</td>\n",
       "    </tr>\n",
       "    <tr>\n",
       "      <th>FairnessVirtue</th>\n",
       "      <td>0.085</td>\n",
       "      <td>0.149</td>\n",
       "      <td>4.519</td>\n",
       "      <td>19.038</td>\n",
       "    </tr>\n",
       "    <tr>\n",
       "      <th>HarmVice</th>\n",
       "      <td>0.235</td>\n",
       "      <td>0.542</td>\n",
       "      <td>3.912</td>\n",
       "      <td>16.683</td>\n",
       "    </tr>\n",
       "    <tr>\n",
       "      <th>HarmVirtue</th>\n",
       "      <td>0.120</td>\n",
       "      <td>0.146</td>\n",
       "      <td>3.885</td>\n",
       "      <td>18.869</td>\n",
       "    </tr>\n",
       "    <tr>\n",
       "      <th>IngroupVice</th>\n",
       "      <td>0.015</td>\n",
       "      <td>0.015</td>\n",
       "      <td>7.980</td>\n",
       "      <td>61.682</td>\n",
       "    </tr>\n",
       "    <tr>\n",
       "      <th>IngroupVirtue</th>\n",
       "      <td>0.495</td>\n",
       "      <td>0.784</td>\n",
       "      <td>2.694</td>\n",
       "      <td>9.796</td>\n",
       "    </tr>\n",
       "    <tr>\n",
       "      <th>MoralityGeneral</th>\n",
       "      <td>0.575</td>\n",
       "      <td>0.849</td>\n",
       "      <td>1.983</td>\n",
       "      <td>4.227</td>\n",
       "    </tr>\n",
       "    <tr>\n",
       "      <th>PurityVice</th>\n",
       "      <td>0.245</td>\n",
       "      <td>0.377</td>\n",
       "      <td>3.330</td>\n",
       "      <td>13.834</td>\n",
       "    </tr>\n",
       "    <tr>\n",
       "      <th>PurityVirtue</th>\n",
       "      <td>0.185</td>\n",
       "      <td>0.252</td>\n",
       "      <td>2.942</td>\n",
       "      <td>8.750</td>\n",
       "    </tr>\n",
       "  </tbody>\n",
       "</table>\n",
       "</div>"
      ],
      "text/plain": [
       "                  mean  variance  skewness  kurtosis\n",
       "AuthorityVice    0.000     0.000       NaN       NaN\n",
       "AuthorityVirtue  0.795     2.033     2.376     5.978\n",
       "FairnessVice     0.000     0.000       NaN       NaN\n",
       "FairnessVirtue   0.085     0.149     4.519    19.038\n",
       "HarmVice         0.235     0.542     3.912    16.683\n",
       "HarmVirtue       0.120     0.146     3.885    18.869\n",
       "IngroupVice      0.015     0.015     7.980    61.682\n",
       "IngroupVirtue    0.495     0.784     2.694     9.796\n",
       "MoralityGeneral  0.575     0.849     1.983     4.227\n",
       "PurityVice       0.245     0.377     3.330    13.834\n",
       "PurityVirtue     0.185     0.252     2.942     8.750"
      ]
     },
     "execution_count": 12,
     "metadata": {},
     "output_type": "execute_result"
    }
   ],
   "source": [
    "moments"
   ]
  },
  {
   "cell_type": "code",
   "execution_count": 13,
   "id": "2548fa57",
   "metadata": {},
   "outputs": [
    {
     "name": "stdout",
     "output_type": "stream",
     "text": [
      "AuthorityVirtue Score: 7\n",
      "\n",
      "Essay:\n",
      " When I am 25 years old, I'll be married to [name]. If it's two girls, [name] [name], and if it's three girls [name] [name] + [name], and if it's three boys I'll call them [name] [name] and [name]. If it's two boys [name] and [name], and if it's a girl and boy [name] and [name]. When I grow up, I want to be a Pop singer. If not an actress or a circus actor or a Pop dancer. I will hope I have a beautiful house in the countryside or valley drive. I'll take my children to my mother and father and my husband's father and mother. My interests are to look at their animals and do some gardening in my spare time. I'll sit and knit cardigans and jumpers for the children, husband, and myself. I'll lie on the bed and have a rest. I'll have modern furniture in my home, hope the house will be private. I'll let my children have their own space if I don't get married and have no children. If I do get married and have children, I'll stay with my mother and father. I'll help my mother to cook and do shopping.\n",
      "\n",
      "Corrected changes:\n",
      "- 'Iam' -> 'I am'\n",
      "- 'xxx' (1) -> 25 pounds\n",
      "- '****' (2) -> two girls\n",
      "- '***' (3) -> three girls\n",
      "- '***' (4) -> three boys\n",
      "- 'xxx' (5) -> two boys\n",
      "- '***' (6) -> a girl and boy\n",
      "- 'Popdancer' -> Pop dancer\n",
      "- 'conutry' -> countryside\n",
      "- 'sape' -> spare\n",
      "- 'o*' -> own\n",
      "- 'myself' added for clarity\n"
     ]
    }
   ],
   "source": [
    "# Sort by AuthorityVirtue and return the top-scoring essay\n",
    "top_authorityvirtue = df_mfd.sort_values(by=\"AuthorityVirtue\", ascending=False).iloc[0]\n",
    "\n",
    "# Print the essay and its AuthorityVirtue score\n",
    "print(\"AuthorityVirtue Score:\", top_authorityvirtue[\"AuthorityVirtue\"])\n",
    "print(\"\\nEssay:\\n\", top_authorityvirtue[\"corrected\"])\n"
   ]
  },
  {
   "cell_type": "code",
   "execution_count": 26,
   "id": "3f795e23",
   "metadata": {},
   "outputs": [
    {
     "data": {
      "text/plain": [
       "'When I am 25 I help I am sailing on a ship on the sea. I helped to have two children. one boy and one girl. I would like to be a sailor in the navy. When I am 25 years old I would like to be captain of a big shop. When I am at home I would like to see plays when I stay at home and be a sailer. I will be a framer. When I am 25 and home. I would make things and my thing. I would going out and buy things for my children. I might have a car to take my wife in it. And will look at T.V.'"
      ]
     },
     "execution_count": 26,
     "metadata": {},
     "output_type": "execute_result"
    }
   ],
   "source": [
    "texts = df['corrected'][7]\n",
    "texts"
   ]
  },
  {
   "cell_type": "code",
   "execution_count": 27,
   "id": "8fb75e8d",
   "metadata": {},
   "outputs": [
    {
     "name": "stdout",
     "output_type": "stream",
     "text": [
      "   care  fairness  loyalty  authority  purity\n",
      "0   NaN       NaN      NaN        NaN     NaN\n"
     ]
    },
    {
     "name": "stderr",
     "output_type": "stream",
     "text": [
      "/home/semipro321/anaconda3/envs/py311/lib/python3.11/site-packages/spacy/pipeline/lemmatizer.py:211: UserWarning: [W108] The rule-based lemmatizer did not find POS annotation for one or more tokens. Check that your pipeline includes components that assign token.pos, typically 'tagger'+'attribute_ruler' or 'morphologizer'.\n",
      "  warnings.warn(Warnings.W108)\n"
     ]
    }
   ],
   "source": [
    "from moralstrength.moralstrength import estimate_morals\n",
    "# df['correct']\n",
    "# texts = '''My dog is very loyal to me.\n",
    "# My cat is not loyal, but understands my authority.\n",
    "# He did not want to break the router, he was fixing it.\n",
    "# It is not fair! She cheated on the exams.\n",
    "# Are you pure of heart? Because I am sure not.\n",
    "# Will you take care of me? I am sad.'''\n",
    "\n",
    "texts = texts.split('\\n')\n",
    "\n",
    "result = estimate_morals(texts, process=True) # set to false if text is alredy pre-processed\n",
    "print(result)"
   ]
  }
 ],
 "metadata": {
  "kernelspec": {
   "display_name": "py311",
   "language": "python",
   "name": "python3"
  },
  "language_info": {
   "codemirror_mode": {
    "name": "ipython",
    "version": 3
   },
   "file_extension": ".py",
   "mimetype": "text/x-python",
   "name": "python",
   "nbconvert_exporter": "python",
   "pygments_lexer": "ipython3",
   "version": "3.11.9"
  }
 },
 "nbformat": 4,
 "nbformat_minor": 5
}
