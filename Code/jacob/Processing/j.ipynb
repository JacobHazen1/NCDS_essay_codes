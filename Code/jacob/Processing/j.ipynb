{
 "cells": [
  {
   "cell_type": "code",
   "execution_count": 12,
   "id": "4e87c390",
   "metadata": {},
   "outputs": [
    {
     "name": "stderr",
     "output_type": "stream",
     "text": [
      "INFO:httpx:HTTP Request: POST http://127.0.0.1:11434/api/chat \"HTTP/1.1 200 OK\"\n",
      "INFO:httpx:HTTP Request: POST http://127.0.0.1:11434/api/chat \"HTTP/1.1 200 OK\"\n",
      "INFO:httpx:HTTP Request: POST http://127.0.0.1:11434/api/chat \"HTTP/1.1 200 OK\"\n",
      "INFO:httpx:HTTP Request: POST http://127.0.0.1:11434/api/chat \"HTTP/1.1 200 OK\"\n",
      "INFO:httpx:HTTP Request: POST http://127.0.0.1:11434/api/chat \"HTTP/1.1 200 OK\"\n"
     ]
    }
   ],
   "source": [
    "import pandas as pd\n",
    "import ollama\n",
    "\n",
    "# 1. load your essays\n",
    "path = \"/home/semipro321/OneDrive/School/McGill/Research Projects/Essay/\"\n",
    "df_essay = pd.read_csv(path + 'Data/essay11/raw_all_essays.csv')\n",
    "\n",
    "# 2. define a reusable prompt template\n",
    "PROMPT = (\n",
    "    \"This is a historical writing sample from a child back in 1958 United Kingdom.\\n\"\n",
    "    \"You are a spell checker. Correct spelling only. Do not change grammar, punctuation, or sentence order.\\n\"\n",
    "    \"Do not change the meaning of the text in any way or add new information to it\"\n",
    "    \"Replace 'xxx' or '****' followed by a number with the number and the word 'pounds'.\\n\"\n",
    "    \"If 'xxx' or '****' are not followed by a number, keep them as-is.\\n\"\n",
    "    \"Avoid using symbols. Expand short forms: write 'centimetres' instead of 'cm'.\\n\"\n",
    "    \"DO NOT replace or modify anything inside square brackets. Do not invent names.\\n\"\n",
    "    \"Only return the corrected sentence.\\n\\n\"\n",
    "    \"{essay}\"\n",
    ")\n",
    "def correct_essay(text):\n",
    "    prompt = PROMPT.format(essay=text)\n",
    "    resp = ollama.chat(\n",
    "        model=\"llama3.2\",\n",
    "        messages=[{\"role\":\"user\", \"content\":prompt}]\n",
    "    )\n",
    "    return resp[\"message\"][\"content\"].strip()\n",
    "\n",
    "df_essay = df_essay.sample(5)\n",
    "# run over all essays\n",
    "df_essay[\"corrected\"] = df_essay[\"cleaned_text\"].apply(correct_essay)\n",
    "\n",
    "# save to a new file\n",
    "df_essay.to_csv(path+\"essays_corrected.csv\", index=False)\n"
   ]
  },
  {
   "cell_type": "code",
   "execution_count": 8,
   "id": "30fc03e0",
   "metadata": {},
   "outputs": [
    {
     "name": "stderr",
     "output_type": "stream",
     "text": [
      "INFO:httpx:HTTP Request: POST http://127.0.0.1:11434/api/chat \"HTTP/1.1 200 OK\"\n"
     ]
    },
    {
     "data": {
      "text/plain": [
       "'I am now twenty-five and I hope to be a school teacher. I have been in college for six years now. I have been married for four years I have a girl called [name] she is two. My hobby at home is wallpapering and painting. My home has three bedrooms, one kitchen, one living room, one toilet and bathroom. There is also a shop called [shop] attached to the house. My address is [address]. If I dont become a teacher I might work at the memorial hospital.'"
      ]
     },
     "execution_count": 8,
     "metadata": {},
     "output_type": "execute_result"
    }
   ],
   "source": [
    "correct_essay(df_essay['cleaned_text'][12])"
   ]
  },
  {
   "cell_type": "code",
   "execution_count": 9,
   "id": "835c81e2",
   "metadata": {},
   "outputs": [
    {
     "data": {
      "text/plain": [
       "'I am now 25 and I hope to be a school teacher. I have been in collage for 6 year now. I have been married for 4 year I have a girl called [name] she is 2. My hobby at home is wallpapering and painting. My home has 3 bedrooms, 1 kitchen, 1 Liveing room, 1 tolet and Bathroom. There is also a shop called [shop] attached to the house. My address is [address]. If I dont become a teacher I might work at the momorial hospital.  Words: 87'"
      ]
     },
     "execution_count": 9,
     "metadata": {},
     "output_type": "execute_result"
    }
   ],
   "source": [
    "df_essay['cleaned_text'][12]"
   ]
  }
 ],
 "metadata": {
  "kernelspec": {
   "display_name": "py311",
   "language": "python",
   "name": "python3"
  },
  "language_info": {
   "codemirror_mode": {
    "name": "ipython",
    "version": 3
   },
   "file_extension": ".py",
   "mimetype": "text/x-python",
   "name": "python",
   "nbconvert_exporter": "python",
   "pygments_lexer": "ipython3",
   "version": "3.11.9"
  }
 },
 "nbformat": 4,
 "nbformat_minor": 5
}
