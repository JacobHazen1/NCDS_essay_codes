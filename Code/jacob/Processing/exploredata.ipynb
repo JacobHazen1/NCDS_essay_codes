{
 "cells": [
  {
   "cell_type": "code",
   "execution_count": 2,
   "id": "4e87c390",
   "metadata": {},
   "outputs": [],
   "source": [
    "import pandas as pd\n",
    "\n",
    "# 1. load your essays\n",
    "# path = \"/home/semipro321/OneDrive/School/McGill/Research Projects/Essay/\"\n",
    "# df_essay = pd.read_csv(path + 'Data/essay11/Processed/essays_corrected.csv')\n",
    "\n",
    "df = pd.read_csv(\"/home/semipro321/OneDrive/School/McGill/Research Projects/Essay/Data/essay11/Processed/essays_with_mfscores.csv\")"
   ]
  },
  {
   "cell_type": "code",
   "execution_count": 3,
   "id": "30fc03e0",
   "metadata": {},
   "outputs": [
    {
     "data": {
      "text/plain": [
       "Index(['Text', 'ID', 'Words', 'cleaned_text', 'corrected', 'CARE/HARM',\n",
       "       'FAIRNESS/CHEATING', 'LOYALTY/BETRAYAL', 'AUTHORITY/SUBVERSION',\n",
       "       'PURITY/DEGRADATION'],\n",
       "      dtype='object')"
      ]
     },
     "execution_count": 3,
     "metadata": {},
     "output_type": "execute_result"
    }
   ],
   "source": [
    "df.columns"
   ]
  },
  {
   "cell_type": "code",
   "execution_count": 5,
   "id": "835c81e2",
   "metadata": {},
   "outputs": [
    {
     "data": {
      "application/vnd.microsoft.datawrangler.viewer.v0+json": {
       "columns": [
        {
         "name": "index",
         "rawType": "object",
         "type": "string"
        },
        {
         "name": "AUTHORITY/SUBVERSION",
         "rawType": "float64",
         "type": "float"
        }
       ],
       "ref": "8377a040-da94-494f-8c91-643b342de795",
       "rows": [
        [
         "count",
         "10509.0"
        ],
        [
         "mean",
         "0.07484260054178382"
        ],
        [
         "std",
         "0.18883482996906378"
        ],
        [
         "min",
         "2.286918061145116e-05"
        ],
        [
         "25%",
         "0.0005024997517466"
        ],
        [
         "50%",
         "0.0017893430776894"
        ],
        [
         "75%",
         "0.0131636960431933"
        ],
        [
         "max",
         "0.9805387258529664"
        ]
       ],
       "shape": {
        "columns": 1,
        "rows": 8
       }
      },
      "text/plain": [
       "count    10509.000000\n",
       "mean         0.074843\n",
       "std          0.188835\n",
       "min          0.000023\n",
       "25%          0.000502\n",
       "50%          0.001789\n",
       "75%          0.013164\n",
       "max          0.980539\n",
       "Name: AUTHORITY/SUBVERSION, dtype: float64"
      ]
     },
     "execution_count": 5,
     "metadata": {},
     "output_type": "execute_result"
    }
   ],
   "source": [
    "df[\"AUTHORITY/SUBVERSION\"].describe()"
   ]
  },
  {
   "cell_type": "code",
   "execution_count": 6,
   "id": "605a93bc",
   "metadata": {},
   "outputs": [
    {
     "data": {
      "application/vnd.microsoft.datawrangler.viewer.v0+json": {
       "columns": [
        {
         "name": "index",
         "rawType": "int64",
         "type": "integer"
        },
        {
         "name": "corrected",
         "rawType": "object",
         "type": "string"
        }
       ],
       "ref": "df0012bc-4560-4784-abc8-85ae03d66e44",
       "rows": [
        [
         "409",
         "I would first try to get a house and then I would build a family and I would try and make my family happy and teach them how to respect other people. I would not let other people tell me how to do my business. I would like to be a Carpenter and I would go to a club of Weight-lifting. I would like my family, when they grow up, like when I once was twenty-five, they can help themselves and lead a good life. I would take my children to the Zoo sometimes and to their families, but otherwise, it is for my wife to take them out."
        ]
       ],
       "shape": {
        "columns": 1,
        "rows": 1
       }
      },
      "text/plain": [
       "409    I would first try to get a house and then I wo...\n",
       "Name: corrected, dtype: object"
      ]
     },
     "execution_count": 6,
     "metadata": {},
     "output_type": "execute_result"
    }
   ],
   "source": [
    "df[df[\"AUTHORITY/SUBVERSION\"] == df[\"AUTHORITY/SUBVERSION\"].max()][\"corrected\"]"
   ]
  },
  {
   "cell_type": "markdown",
   "id": "9b90c750",
   "metadata": {},
   "source": [
    "I would first try to get a house and then I would build a family and I would try and make my family happy and teach them how to respect other people. I would not let other people tell me how to do my business. I would like to be a Carpenter and I would go to a club of Weight-lifting. I would like my family, when they grow up, like when I once was twenty-five, they can help themselves and lead a good life. I would take my children to the Zoo sometimes and to their families, but otherwise, it is for my wife to take them out."
   ]
  },
  {
   "cell_type": "code",
   "execution_count": 7,
   "id": "65896149",
   "metadata": {},
   "outputs": [
    {
     "data": {
      "text/plain": [
       "0.9805387258529664"
      ]
     },
     "execution_count": 7,
     "metadata": {},
     "output_type": "execute_result"
    }
   ],
   "source": [
    "df[\"AUTHORITY/SUBVERSION\"].max()"
   ]
  }
 ],
 "metadata": {
  "kernelspec": {
   "display_name": "py311",
   "language": "python",
   "name": "python3"
  },
  "language_info": {
   "codemirror_mode": {
    "name": "ipython",
    "version": 3
   },
   "file_extension": ".py",
   "mimetype": "text/x-python",
   "name": "python",
   "nbconvert_exporter": "python",
   "pygments_lexer": "ipython3",
   "version": "3.11.9"
  }
 },
 "nbformat": 4,
 "nbformat_minor": 5
}
