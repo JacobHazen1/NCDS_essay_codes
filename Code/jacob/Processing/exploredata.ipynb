{
 "cells": [
  {
   "cell_type": "code",
   "execution_count": 3,
   "id": "4e87c390",
   "metadata": {},
   "outputs": [],
   "source": [
    "import pandas as pd\n",
    "import ollama\n",
    "\n",
    "# 1. load your essays\n",
    "path = \"/home/semipro321/OneDrive/School/McGill/Research Projects/Essay/\"\n",
    "df_essay = pd.read_csv(path + 'Data/essay11/Processed/essays_corrected.csv')\n",
    "\n"
   ]
  },
  {
   "cell_type": "code",
   "execution_count": 14,
   "id": "30fc03e0",
   "metadata": {},
   "outputs": [
    {
     "data": {
      "text/plain": [
       "\"I am a mechanic and I am working on a racing car, because I want to be a racing driver i am making a lotus climex formula one. I am not yet married*. I do drank but not very much. The body-shell of the car is still at the factory I have had a lot of help by other mechanics. My hobby is swiming I go swimming every Saturday afternoon. At home I usually ha** a read and then watch the television. Every morning I get up early because I have got to get at work at the garage. In the evening I leave work a six 'o' clock and get home at about twenty past six. My friend usually drives me home because I have not yet got my car back from my dad. He is trying mine out to see if to buy one himself. Soon as my racing car is finished I will practice and practice to be a champion racing driver.  \""
      ]
     },
     "execution_count": 14,
     "metadata": {},
     "output_type": "execute_result"
    }
   ],
   "source": [
    "df_essay['cleaned_text'][40]"
   ]
  },
  {
   "cell_type": "code",
   "execution_count": 15,
   "id": "835c81e2",
   "metadata": {},
   "outputs": [
    {
     "data": {
      "text/plain": [
       "\"I am a mechanic and I am working on a racing car, because I want to be a racing driver I am making a Lotus Climax Formula One. I am not yet married. I do drink but not very much. The body-shell of the car is still at the factory. I have had a lot of help from other mechanics. My hobby is swimming. I go swimming every Saturday afternoon. At home I usually have a read and then watch the television. Every morning I get up early because I have to get to work at the garage. In the evening I leave work at six 'o' clock and get home about twenty past six. My friend usually drives me home because I have not yet got my car back from my dad. He is trying mine out to see if he will buy one himself. As soon as my racing car is finished, I will practice and practice to be a champion racing driver.\""
      ]
     },
     "execution_count": 15,
     "metadata": {},
     "output_type": "execute_result"
    }
   ],
   "source": [
    "df_essay['corrected'][40]"
   ]
  },
  {
   "cell_type": "markdown",
   "id": "b3257630",
   "metadata": {},
   "source": []
  }
 ],
 "metadata": {
  "kernelspec": {
   "display_name": "py311",
   "language": "python",
   "name": "python3"
  },
  "language_info": {
   "codemirror_mode": {
    "name": "ipython",
    "version": 3
   },
   "file_extension": ".py",
   "mimetype": "text/x-python",
   "name": "python",
   "nbconvert_exporter": "python",
   "pygments_lexer": "ipython3",
   "version": "3.11.9"
  }
 },
 "nbformat": 4,
 "nbformat_minor": 5
}
