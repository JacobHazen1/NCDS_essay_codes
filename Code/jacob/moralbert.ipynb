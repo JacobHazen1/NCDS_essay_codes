{
 "cells": [
  {
   "cell_type": "code",
   "execution_count": 2,
   "id": "7ac15b3b",
   "metadata": {},
   "outputs": [],
   "source": [
    "from transformers import AutoTokenizer, AutoModel, AutoConfig\n",
    "import torch\n",
    "import pandas as pd\n",
    "import re\n",
    "from collections import defaultdict\n",
    "\n",
    "# Load your essay file\n",
    "path = \"/home/semipro321/OneDrive/School/McGill/Research Projects/Essay/\"\n",
    "df = pd.read_csv(path + \"essays_corrected_200.csv\")\n",
    "model_name = \"lorenzozan/ME2-BERT\"\n"
   ]
  },
  {
   "cell_type": "code",
   "execution_count": null,
   "id": "e965baad",
   "metadata": {},
   "outputs": [],
   "source": [
    "\n",
    "#number 6 is a good essay and 14\n",
    "text = df['corrected'][14]\n",
    "max_length = 256\n",
    "\n",
    "\n",
    "\n",
    "mf_mapping = {'CH':'CARE/HARM','FC':'FAIRNESS/CHEATING', 'LB':'LOYALTY/BETRAYAL', 'AS':'AUTHORITY/SUBVERSION', 'PD': 'PURITY/DEGRADATION'}\n",
    "\n",
    "\n",
    "tokenizer = AutoTokenizer.from_pretrained(model_name, trust_remote_code=True)\n",
    "model = AutoModel.from_pretrained(model_name, trust_remote_code=True)\n",
    "\n",
    "\n",
    "encoded_input = tokenizer(\n",
    "    text,\n",
    "    max_length=max_length,  \n",
    "    padding=\"max_length\",  \n",
    "    truncation=True,  \n",
    "    return_tensors=\"pt\", \n",
    ")\n",
    "\n",
    "input_ids = encoded_input[\"input_ids\"]\n",
    "attention_mask = encoded_input[\"attention_mask\"]\n",
    "\n",
    "model.eval()  \n",
    "with torch.no_grad():\n",
    "    output = model(input_ids=input_ids, attention_mask=attention_mask, return_dict=True)\n",
    "\n"
   ]
  },
  {
   "cell_type": "code",
   "execution_count": 57,
   "id": "1862f3fd",
   "metadata": {},
   "outputs": [
    {
     "name": "stdout",
     "output_type": "stream",
     "text": [
      "I\n",
      "CARE/HARM : 0.88686\n",
      "FAIRNESS/CHEATING : 0.06897\n",
      "LOYALTY/BETRAYAL : 0.79819\n",
      "AUTHORITY/SUBVERSION : 0.00429\n",
      "PURITY/DEGRADATION : 0.04236\n",
      "\n",
      " \n"
     ]
    },
    {
     "ename": "IndexError",
     "evalue": "list index out of range",
     "output_type": "error",
     "traceback": [
      "\u001b[0;31m---------------------------------------------------------------------------\u001b[0m",
      "\u001b[0;31mIndexError\u001b[0m                                Traceback (most recent call last)",
      "Cell \u001b[0;32mIn[57], line 3\u001b[0m\n\u001b[1;32m      1\u001b[0m \u001b[38;5;28;01mfor\u001b[39;00m i, tt \u001b[38;5;129;01min\u001b[39;00m \u001b[38;5;28menumerate\u001b[39m(text):\n\u001b[1;32m      2\u001b[0m     \u001b[38;5;28mprint\u001b[39m(tt)\n\u001b[0;32m----> 3\u001b[0m     \u001b[38;5;28;01mfor\u001b[39;00m mf, score \u001b[38;5;129;01min\u001b[39;00m \u001b[43moutput\u001b[49m\u001b[43m[\u001b[49m\u001b[43mi\u001b[49m\u001b[43m]\u001b[49m\u001b[38;5;241m.\u001b[39mitems():\n\u001b[1;32m      4\u001b[0m         \u001b[38;5;28mprint\u001b[39m(\u001b[38;5;124mf\u001b[39m\u001b[38;5;124m'\u001b[39m\u001b[38;5;132;01m{\u001b[39;00mmf_mapping[mf]\u001b[38;5;132;01m}\u001b[39;00m\u001b[38;5;124m : \u001b[39m\u001b[38;5;132;01m{\u001b[39;00mscore\u001b[38;5;132;01m}\u001b[39;00m\u001b[38;5;124m'\u001b[39m)\n\u001b[1;32m      6\u001b[0m     \u001b[38;5;28mprint\u001b[39m()\n",
      "\u001b[0;31mIndexError\u001b[0m: list index out of range"
     ]
    }
   ],
   "source": [
    "for i, tt in enumerate(text):\n",
    "    print(tt)\n",
    "    for mf, score in output[i].items():\n",
    "        print(f'{mf_mapping[mf]} : {score}')\n",
    "        \n",
    "    print()"
   ]
  },
  {
   "cell_type": "code",
   "execution_count": 34,
   "id": "0385f9e4",
   "metadata": {},
   "outputs": [],
   "source": [
    "from transformers import AutoTokenizer, AutoModel\n",
    "import torch\n",
    "import pandas as pd\n",
    "\n",
    "# Load your essay file\n",
    "path = \"/home/semipro321/OneDrive/School/McGill/Research Projects/Essay/Data/essay11/Processed/\"\n",
    "df = pd.read_csv(path + \"essays_corrected.csv\")\n",
    "\n",
    "\n",
    "model_name = \"lorenzozan/ME2-BERT\"\n",
    "max_length = 256\n",
    "\n",
    "mf_mapping = {\n",
    "    'CH':'CARE/HARM',\n",
    "    'FC':'FAIRNESS/CHEATING',\n",
    "    'LB':'LOYALTY/BETRAYAL',\n",
    "    'AS':'AUTHORITY/SUBVERSION',\n",
    "    'PD':'PURITY/DEGRADATION'\n",
    "}\n",
    "codes = list(mf_mapping.keys())  # ['CH','FC','LB','AS','PD']\n",
    "\n",
    "tokenizer = AutoTokenizer.from_pretrained(model_name, trust_remote_code=True)\n",
    "model = AutoModel.from_pretrained(model_name, trust_remote_code=True)\n",
    "model.eval()\n",
    "\n",
    "all_scores = []\n",
    "with torch.no_grad():\n",
    "    for text in df['corrected']:\n",
    "        enc = tokenizer(\n",
    "            text,\n",
    "            max_length=max_length,\n",
    "            padding=\"max_length\",\n",
    "            truncation=True,\n",
    "            return_tensors=\"pt\",\n",
    "        )\n",
    "        out = model(**enc)  \n",
    "        # unwrap if it's a list/tuple\n",
    "        if isinstance(out, (list, tuple)):\n",
    "            scores_tensor = out[0]\n",
    "        else:\n",
    "            scores_tensor = out\n",
    "        # now scores_tensor is a Tensor of shape [1,5] or [5]\n",
    "        values = scores_tensor.squeeze().tolist()\n",
    "        # build dict\n",
    "        mapped = { mf_mapping[codes[i]]: values[i] for i in range(len(codes)) }\n",
    "        all_scores.append(mapped)\n",
    "\n",
    "df_scores = pd.DataFrame(all_scores)\n",
    "df = pd.concat([df.reset_index(drop=True), df_scores], axis=1)\n",
    "#df.to_csv(path + \"essays_with_mfscores.csv\", index=False)"
   ]
  },
  {
   "cell_type": "code",
   "execution_count": 35,
   "id": "f213a0fa",
   "metadata": {},
   "outputs": [],
   "source": [
    "df.to_csv(path + \"essays_with_mfscores.csv\", index=False)\n"
   ]
  },
  {
   "cell_type": "code",
   "execution_count": null,
   "id": "6b4ad869",
   "metadata": {},
   "outputs": [
    {
     "data": {
      "application/vnd.microsoft.datawrangler.viewer.v0+json": {
       "columns": [
        {
         "name": "index",
         "rawType": "object",
         "type": "string"
        },
        {
         "name": "AUTHORITY/SUBVERSION",
         "rawType": "float64",
         "type": "float"
        }
       ],
       "ref": "2e15390f-9f4c-4197-95f3-c22d1d9b0561",
       "rows": [
        [
         "count",
         "10509.0"
        ],
        [
         "mean",
         "0.07484260054178385"
        ],
        [
         "std",
         "0.18883482996906378"
        ],
        [
         "min",
         "2.2869180611451156e-05"
        ],
        [
         "25%",
         "0.0005024997517466545"
        ],
        [
         "50%",
         "0.0017893430776894093"
        ],
        [
         "75%",
         "0.01316369604319334"
        ],
        [
         "max",
         "0.9805387258529663"
        ]
       ],
       "shape": {
        "columns": 1,
        "rows": 8
       }
      },
      "text/plain": [
       "count    10509.000000\n",
       "mean         0.074843\n",
       "std          0.188835\n",
       "min          0.000023\n",
       "25%          0.000502\n",
       "50%          0.001789\n",
       "75%          0.013164\n",
       "max          0.980539\n",
       "Name: AUTHORITY/SUBVERSION, dtype: float64"
      ]
     },
     "execution_count": 40,
     "metadata": {},
     "output_type": "execute_result"
    }
   ],
   "source": [
    "df[\"AUTHORITY/SUBVERSION\"].describe()"
   ]
  },
  {
   "cell_type": "code",
   "execution_count": 41,
   "id": "932b5edf",
   "metadata": {},
   "outputs": [
    {
     "data": {
      "application/vnd.microsoft.datawrangler.viewer.v0+json": {
       "columns": [
        {
         "name": "index",
         "rawType": "int64",
         "type": "integer"
        },
        {
         "name": "Text",
         "rawType": "object",
         "type": "string"
        },
        {
         "name": "ID",
         "rawType": "object",
         "type": "string"
        },
        {
         "name": "Words",
         "rawType": "float64",
         "type": "float"
        },
        {
         "name": "cleaned_text",
         "rawType": "object",
         "type": "string"
        },
        {
         "name": "corrected",
         "rawType": "object",
         "type": "string"
        },
        {
         "name": "CARE/HARM",
         "rawType": "float64",
         "type": "float"
        },
        {
         "name": "FAIRNESS/CHEATING",
         "rawType": "float64",
         "type": "float"
        },
        {
         "name": "LOYALTY/BETRAYAL",
         "rawType": "float64",
         "type": "float"
        },
        {
         "name": "AUTHORITY/SUBVERSION",
         "rawType": "float64",
         "type": "float"
        },
        {
         "name": "PURITY/DEGRADATION",
         "rawType": "float64",
         "type": "float"
        }
       ],
       "ref": "53d7b2e8-c2c6-401d-9147-0e8b3b9ef26d",
       "rows": [
        [
         "409",
         "ID: N28214N----------------------I would first try to get a house and then I would build a famuily and I would try and make my famaily happy and teach them how to respect oather people. I would not let oather people tell me how to do my buisness. I would like to be a Carpenter and I would go to a club of Wiaght- liftling. I would like my family when they grow up like when I once was twenty five they can help them self and lead a good life. I would take my children to the Zoo Somethimes and to their famaily but outher than that it is for my wife to take them out.  Words: 114",
         "N28214N",
         "114.0",
         "I would first try to get a house and then I would build a famuily and I would try and make my famaily happy and teach them how to respect oather people. I would not let oather people tell me how to do my buisness. I would like to be a Carpenter and I would go to a club of Wiaght- liftling. I would like my family when they grow up like when I once was twenty five they can help them self and lead a good life. I would take my children to the Zoo Somethimes and to their famaily but outher than that it is for my wife to take them out.  ",
         "I would first try to get a house and then I would build a family and I would try and make my family happy and teach them how to respect other people. I would not let other people tell me how to do my business. I would like to be a Carpenter and I would go to a club of Weight-lifting. I would like my family, when they grow up, like when I once was twenty-five, they can help themselves and lead a good life. I would take my children to the Zoo sometimes and to their families, but otherwise, it is for my wife to take them out.",
         "0.9888781905174255",
         "0.9428858160972595",
         "0.9716393947601318",
         "0.9805387258529663",
         "0.5323025584220886"
        ]
       ],
       "shape": {
        "columns": 10,
        "rows": 1
       }
      },
      "text/html": [
       "<div>\n",
       "<style scoped>\n",
       "    .dataframe tbody tr th:only-of-type {\n",
       "        vertical-align: middle;\n",
       "    }\n",
       "\n",
       "    .dataframe tbody tr th {\n",
       "        vertical-align: top;\n",
       "    }\n",
       "\n",
       "    .dataframe thead th {\n",
       "        text-align: right;\n",
       "    }\n",
       "</style>\n",
       "<table border=\"1\" class=\"dataframe\">\n",
       "  <thead>\n",
       "    <tr style=\"text-align: right;\">\n",
       "      <th></th>\n",
       "      <th>Text</th>\n",
       "      <th>ID</th>\n",
       "      <th>Words</th>\n",
       "      <th>cleaned_text</th>\n",
       "      <th>corrected</th>\n",
       "      <th>CARE/HARM</th>\n",
       "      <th>FAIRNESS/CHEATING</th>\n",
       "      <th>LOYALTY/BETRAYAL</th>\n",
       "      <th>AUTHORITY/SUBVERSION</th>\n",
       "      <th>PURITY/DEGRADATION</th>\n",
       "    </tr>\n",
       "  </thead>\n",
       "  <tbody>\n",
       "    <tr>\n",
       "      <th>409</th>\n",
       "      <td>ID: N28214N----------------------I would first...</td>\n",
       "      <td>N28214N</td>\n",
       "      <td>114.0</td>\n",
       "      <td>I would first try to get a house and then I wo...</td>\n",
       "      <td>I would first try to get a house and then I wo...</td>\n",
       "      <td>0.988878</td>\n",
       "      <td>0.942886</td>\n",
       "      <td>0.971639</td>\n",
       "      <td>0.980539</td>\n",
       "      <td>0.532303</td>\n",
       "    </tr>\n",
       "  </tbody>\n",
       "</table>\n",
       "</div>"
      ],
      "text/plain": [
       "                                                  Text       ID  Words  \\\n",
       "409  ID: N28214N----------------------I would first...  N28214N  114.0   \n",
       "\n",
       "                                          cleaned_text  \\\n",
       "409  I would first try to get a house and then I wo...   \n",
       "\n",
       "                                             corrected  CARE/HARM  \\\n",
       "409  I would first try to get a house and then I wo...   0.988878   \n",
       "\n",
       "     FAIRNESS/CHEATING  LOYALTY/BETRAYAL  AUTHORITY/SUBVERSION  \\\n",
       "409           0.942886          0.971639              0.980539   \n",
       "\n",
       "     PURITY/DEGRADATION  \n",
       "409            0.532303  "
      ]
     },
     "execution_count": 41,
     "metadata": {},
     "output_type": "execute_result"
    }
   ],
   "source": [
    "df[df[\"AUTHORITY/SUBVERSION\"] == df[\"AUTHORITY/SUBVERSION\"].max()]"
   ]
  }
 ],
 "metadata": {
  "kernelspec": {
   "display_name": "py311",
   "language": "python",
   "name": "python3"
  },
  "language_info": {
   "codemirror_mode": {
    "name": "ipython",
    "version": 3
   },
   "file_extension": ".py",
   "mimetype": "text/x-python",
   "name": "python",
   "nbconvert_exporter": "python",
   "pygments_lexer": "ipython3",
   "version": "3.11.9"
  }
 },
 "nbformat": 4,
 "nbformat_minor": 5
}
