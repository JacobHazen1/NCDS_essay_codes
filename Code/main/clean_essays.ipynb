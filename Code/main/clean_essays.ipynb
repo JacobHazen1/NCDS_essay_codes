{
 "cells": [
  {
   "cell_type": "code",
   "execution_count": 17,
   "metadata": {},
   "outputs": [],
   "source": [
    "import pandas as pd\n",
    "import numpy as np\n",
    "import matplotlib.pyplot as plt\n",
    "import seaborn as sns\n",
    "import os\n",
    "\n",
    "from striprtf.striprtf import rtf_to_text"
   ]
  },
  {
   "cell_type": "code",
   "execution_count": 18,
   "metadata": {},
   "outputs": [],
   "source": [
    "# Define the folder containing RTF files\n",
    "folder_path = '/home/semipro321/OneDrive/School/McGill/Research Projects/Essay/Data/essay11/rtf'\n",
    "\n",
    "# Initialize an empty list to store data\n",
    "data = []\n",
    "\n",
    "# Iterate over each file in the folder\n",
    "for filename in os.listdir(folder_path):\n",
    "    if filename.endswith('.rtf'):\n",
    "        file_path = os.path.join(folder_path, filename)\n",
    "        \n",
    "        # Read the RTF file\n",
    "        with open(file_path, 'r', encoding='windows-1252') as file:\n",
    "            rtf_content = file.read()\n",
    "        \n",
    "        # Convert RTF to plain text\n",
    "        plain_text = rtf_to_text(rtf_content)\n",
    "        \n",
    "        # Process the plain text (this example assumes each file's text represents a row in your DataFrame)\n",
    "        data.append(plain_text)\n",
    "\n",
    "# Convert the collected data into a pandas DataFrame\n",
    "df = pd.DataFrame(data, columns=['Text'])\n"
   ]
  },
  {
   "cell_type": "code",
   "execution_count": 19,
   "metadata": {},
   "outputs": [],
   "source": [
    "\n",
    "# Extract the ID and word count\n",
    "df['ID'] = df['Text'].str.extract(r'ID:\\s*(\\w+)')\n",
    "df['Words'] = df['Text'].str.extract(r'Words:\\s*(\\d+)')\n",
    "\n",
    "# Remove only the '----------------------' part without affecting the text\n",
    "df['cleaned_text'] = df['Text'].str.replace(r'ID:\\s*\\w+\\s*-+', '', regex=True)\n",
    "df['cleaned_text'] = df['cleaned_text'].str.replace(r'-+\\s*Words:\\s*\\d+', '', regex=True)\n",
    "\n",
    "# Clean up any remaining spaces or brackets\n",
    "df['cleaned_text'] = df['cleaned_text'].str.strip()\n",
    "df.to_csv('/home/semipro321/OneDrive/School/McGill/Research Projects/Essay/Data/essay11/raw_all_essays.csv', index=False)"
   ]
  },
  {
   "cell_type": "code",
   "execution_count": null,
   "metadata": {},
   "outputs": [],
   "source": []
  }
 ],
 "metadata": {
  "kernelspec": {
   "display_name": "py311",
   "language": "python",
   "name": "python3"
  },
  "language_info": {
   "codemirror_mode": {
    "name": "ipython",
    "version": 3
   },
   "file_extension": ".py",
   "mimetype": "text/x-python",
   "name": "python",
   "nbconvert_exporter": "python",
   "pygments_lexer": "ipython3",
   "version": "3.11.9"
  }
 },
 "nbformat": 4,
 "nbformat_minor": 2
}
