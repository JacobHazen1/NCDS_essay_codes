{
 "cells": [
  {
   "cell_type": "code",
   "execution_count": 55,
   "metadata": {},
   "outputs": [],
   "source": [
    "import pandas as pd\n",
    "import numpy as np\n",
    "import matplotlib.pyplot as plt\n",
    "import seaborn as sns\n",
    "import os\n",
    "# import language_tool_python\n",
    "# tool = language_tool_python.LanguageTool('en-GB')  \n",
    "\n",
    "path = \"/home/semipro321/OneDrive/School/McGill/Research Projects/Essay/\" #jacob\n",
    "#path = \"/Users/xuefeicheng/Desktop/essay/NCDS_essay_codes/\" #justina"
   ]
  },
  {
   "cell_type": "code",
   "execution_count": 56,
   "metadata": {},
   "outputs": [
    {
     "data": {
      "text/plain": [
       "Index(['Text', 'ID', 'Words', 'cleaned_text'], dtype='object')"
      ]
     },
     "execution_count": 56,
     "metadata": {},
     "output_type": "execute_result"
    }
   ],
   "source": [
    "df_essay=pd.read_csv(path +'Data/essay11/raw_all_essays.csv')\n",
    "df_essay.columns"
   ]
  },
  {
   "cell_type": "code",
   "execution_count": 6,
   "metadata": {},
   "outputs": [],
   "source": [
    "df_essay['word_count'] = df_essay['cleaned_text'].astype(str).apply(lambda x: len(x.split()))\n"
   ]
  },
  {
   "cell_type": "code",
   "execution_count": 17,
   "metadata": {},
   "outputs": [
    {
     "name": "stdout",
     "output_type": "stream",
     "text": [
      "Number of outliers: 260\n",
      "                                          cleaned_text  word_count\n",
      "6    I live in a small country village with my husb...         464\n",
      "11   \"I would like to be married at about that time...         675\n",
      "50   I am married and have a child of 2 1/2, a girl...         516\n",
      "109  I am twenty five years old I went to College u...         490\n",
      "128  I woke up with the alarm clock which said six ...         460\n"
     ]
    }
   ],
   "source": [
    "Q1 = df_essay['word_count'].quantile(0.25)\n",
    "Q3 = df_essay['word_count'].quantile(0.75)\n",
    "IQR = Q3 - Q1\n",
    "\n",
    "lower_bound = Q1 - 1.5 * IQR\n",
    "upper_bound = Q3 + 1.5 * IQR\n",
    "\n",
    "outliers = df_essay[(df_essay['word_count'] < lower_bound) | (df_essay['word_count'] > upper_bound)]\n",
    "\n",
    "\n",
    "\n",
    "print(\"Number of outliers:\", len(outliers))\n",
    "print(outliers[['cleaned_text', 'word_count']].head())\n"
   ]
  },
  {
   "cell_type": "code",
   "execution_count": 54,
   "metadata": {},
   "outputs": [
    {
     "data": {
      "text/plain": [
       "Index(['Text', 'ID', 'Words', 'cleaned_text', 'word_count'], dtype='object')"
      ]
     },
     "execution_count": 54,
     "metadata": {},
     "output_type": "execute_result"
    }
   ],
   "source": [
    "Q1 = df_essay['word_count'].quantile(0.03)\n",
    "Q3 = df_essay['word_count'].quantile(0.95)\n",
    "IQR = Q3 - Q1\n",
    "\n",
    "lower_bound = Q1 - 1.5 * IQR\n",
    "\n",
    "df_essay.columns"
   ]
  },
  {
   "cell_type": "code",
   "execution_count": 47,
   "metadata": {},
   "outputs": [
    {
     "data": {
      "text/plain": [
       "46.0"
      ]
     },
     "execution_count": 47,
     "metadata": {},
     "output_type": "execute_result"
    }
   ],
   "source": [
    "df_tmp = df_essay[df_essay['word_count'] <= Q1]\n",
    "Q1"
   ]
  },
  {
   "cell_type": "code",
   "execution_count": 53,
   "metadata": {},
   "outputs": [
    {
     "data": {
      "text/plain": [
       "'My work as an hair dresser is very nice and I enjoy it very much. Most of all about it I like when my friends come in for their hair to be done for I have something to talk about to some-one.  Words: 42'"
      ]
     },
     "execution_count": 53,
     "metadata": {},
     "output_type": "execute_result"
    }
   ],
   "source": [
    "df_tmp[\"cleaned_text\"][5]\n"
   ]
  },
  {
   "cell_type": "code",
   "execution_count": 48,
   "metadata": {},
   "outputs": [
    {
     "data": {
      "application/vnd.microsoft.datawrangler.viewer.v0+json": {
       "columns": [
        {
         "name": "index",
         "rawType": "int64",
         "type": "integer"
        },
        {
         "name": "Text",
         "rawType": "object",
         "type": "string"
        },
        {
         "name": "ID",
         "rawType": "object",
         "type": "string"
        },
        {
         "name": "Words",
         "rawType": "float64",
         "type": "float"
        },
        {
         "name": "cleaned_text",
         "rawType": "object",
         "type": "string"
        },
        {
         "name": "word_count",
         "rawType": "int64",
         "type": "integer"
        }
       ],
       "conversionMethod": "pd.DataFrame",
       "ref": "340552e0-afb3-4fed-8d01-0276fa948e8e",
       "rows": [
        [
         "5",
         "ID: N11188U----------------------My work as an hair dresser is very nice and I enjoy it very much. Most of all about it I like when my friends come in for their hair to be done for I have something to talk about to some-one.  Words: 42",
         "N11188U",
         "42.0",
         "My work as an hair dresser is very nice and I enjoy it very much. Most of all about it I like when my friends come in for their hair to be done for I have something to talk about to some-one.  Words: 42",
         "44"
        ],
        [
         "69",
         "ID: N17869N----------------------When I leave school I would like to be a owener of a sweet shop so that when no one is looking I could eat some sweets. Or if I cant own a sweet shop I would like to be a zoo keeper  Words: 43",
         "N17869N",
         "43.0",
         "When I leave school I would like to be a owener of a sweet shop so that when no one is looking I could eat some sweets. Or if I cant own a sweet shop I would like to be a zoo keeper  Words: 43",
         "45"
        ],
        [
         "159",
         "ID: N12659J----------------------go to werk and go abod  Words: 6",
         "N12659J",
         "6.0",
         "go to werk and go abod  Words: 6",
         "8"
        ],
        [
         "176",
         "ID: N17104Y----------------------I would like to live in another cottage and have a car of my own and learn to drive. I would like my husband to have a good job. I would only like to have two or three children.  Words: 39",
         "N17104Y",
         "39.0",
         "I would like to live in another cottage and have a car of my own and learn to drive. I would like my husband to have a good job. I would only like to have two or three children.  Words: 39",
         "41"
        ],
        [
         "262",
         "ID: N11423L----------------------the softead Omoni'tie wod ron bae the polq rod war kasr bar the and rna time but anwer cat and narme man  Words: 22",
         "N11423L",
         "22.0",
         "the softead Omoni'tie wod ron bae the polq rod war kasr bar the and rna time but anwer cat and narme man  Words: 22",
         "24"
        ],
        [
         "265",
         "ID: N13788W----------------------I have a car and I go fishing when my wife is making the . I work at (place) building aeroplane engines. We are moving soon to (place) I am quite interested in engines. ** helped to make the engine for Concord.  Words: 42",
         "N13788W",
         "42.0",
         "I have a car and I go fishing when my wife is making the . I work at (place) building aeroplane engines. We are moving soon to (place) I am quite interested in engines. ** helped to make the engine for Concord.  Words: 42",
         "44"
        ],
        [
         "289",
         "ID: N18913D----------------------I will have a job of some kind. I hope its a short hand typest. I hope I will have a job that I like. And be Interested in it. I expect I will have some pets. A dog or a cat.  Words: 42",
         "N18913D",
         "42.0",
         "I will have a job of some kind. I hope its a short hand typest. I hope I will have a job that I like. And be Interested in it. I expect I will have some pets. A dog or a cat.  Words: 42",
         "44"
        ],
        [
         "314",
         "ID: N17574A----------------------At 25 years old. I me job to paly football at the **** FC. on be a cinemas ** work at Ford on work *t **** *as  Words: 27",
         "N17574A",
         "27.0",
         "At 25 years old. I me job to paly football at the **** FC. on be a cinemas ** work at Ford on work *t **** *as  Words: 27",
         "29"
        ],
        [
         "395",
         "ID: N22709G----------------------Well I'll like to look after animals. and perhaps get married and have children, really I haven` t thought about it.  Words: 21",
         "N22709G",
         "21.0",
         "Well I'll like to look after animals. and perhaps get married and have children, really I haven` t thought about it.  Words: 21",
         "23"
        ],
        [
         "429",
         "ID: N18182S----------------------I have Just left Collage I am now working and am Electrl Eginer In my spare time I play Table Tennies, I am marriad with three children  Words: 27",
         "N18182S",
         "27.0",
         "I have Just left Collage I am now working and am Electrl Eginer In my spare time I play Table Tennies, I am marriad with three children  Words: 27",
         "29"
        ],
        [
         "526",
         "ID: N25932Z----------------------I am 25 year's old, I play football, and play Golf, I will live with my mum and DaD, I will be a fireman, and will Be Diveing the firengin, I like to be a firemen, it is nice too be one.  Words: 42",
         "N25932Z",
         "42.0",
         "I am 25 year's old, I play football, and play Golf, I will live with my mum and DaD, I will be a fireman, and will Be Diveing the firengin, I like to be a firemen, it is nice too be one.  Words: 42",
         "44"
        ],
        [
         "555",
         "ID: N10607N----------------------I am now twenty five years of age and I play for a football team. Next week we play in the cup final. I play at outside right. Last week we won 1-0 against St. Mirren and I got the goal.  Words: 41",
         "N10607N",
         "41.0",
         "I am now twenty five years of age and I play for a football team. Next week we play in the cup final. I play at outside right. Last week we won 1-0 against St. Mirren and I got the goal.  Words: 41",
         "43"
        ],
        [
         "572",
         "ID: N16542N----------------------I have a JoB   I have two chunlen   I ann a EnnJneer   I enjoy my JoB   I am mared   I ha a hose   I have car   my chunlen have a scool  Words: 31",
         "N16542N",
         "31.0",
         "I have a JoB   I have two chunlen   I ann a EnnJneer   I enjoy my JoB   I am mared   I ha a hose   I have car   my chunlen have a scool  Words: 31",
         "33"
        ],
        [
         "603",
         "ID: N23138X----------------------I wod lie to be a famare and drive a car and in the sper tin i wod lie to mac thing out of wood and if I cod not beiy a famre I wod lie to be a acyooolg*t and a go* *  Words: 44",
         "N23138X",
         "44.0",
         "I wod lie to be a famare and drive a car and in the sper tin i wod lie to mac thing out of wood and if I cod not beiy a famre I wod lie to be a acyooolg*t and a go* *  Words: 44",
         "46"
        ],
        [
         "609",
         "ID: N17784J----------------------I would wurk in a sho fatret. and rase picting I would not get marid. I wud get my self a motabick. and live in a bugalow. I wud kep a bog.  Words: 32",
         "N17784J",
         "32.0",
         "I would wurk in a sho fatret. and rase picting I would not get marid. I wud get my self a motabick. and live in a bugalow. I wud kep a bog.  Words: 32",
         "34"
        ],
        [
         "636",
         "ID: N23203P----------------------I would do painting go to the pictures I would do cooking and reading is my hobby I would watch television play with games help with the house-work do some home-work go out to work and I could read the dandy and beano comics  Words: 44",
         "N23203P",
         "44.0",
         "I would do painting go to the pictures I would do cooking and reading is my hobby I would watch television play with games help with the house-work do some home-work go out to work and I could read the dandy and beano comics  Words: 44",
         "46"
        ],
        [
         "686",
         "ID: N25243F----------------------I would Buy a home and Be a Film akter and I  Words: 12",
         "N25243F",
         "12.0",
         "I would Buy a home and Be a Film akter and I  Words: 12",
         "14"
        ],
        [
         "697",
         "ID: N19369F----------------------Drive* a car   be* a hairdresser   Not have a shop of my own   Live in a Country house   have some dogs and cats   have big garden   have a apple tree   Have a holiday* each year   in Portucal  Words: 37",
         "N19369F",
         "37.0",
         "Drive* a car   be* a hairdresser   Not have a shop of my own   Live in a Country house   have some dogs and cats   have big garden   have a apple tree   Have a holiday* each year   in Portucal  Words: 37",
         "39"
        ],
        [
         "721",
         "ID: N15937Z----------------------'This was explained very carefully to [name] but she just sat and looked though orally she knew what to do.' - comment by teacher in essay box.  Words: 27",
         "N15937Z",
         "27.0",
         "'This was explained very carefully to [name] but she just sat and looked though orally she knew what to do.' - comment by teacher in essay box.  Words: 27",
         "29"
        ],
        [
         "730",
         "ID: N23648Q----------------------In the morning I get wash myself and bring my mother a cup, then I do the house work then I,ll go to work.  Words: 24",
         "N23648Q",
         "24.0",
         "In the morning I get wash myself and bring my mother a cup, then I do the house work then I,ll go to work.  Words: 24",
         "26"
        ],
        [
         "776",
         "ID: N14903K----------------------going Awt on gisnistiter'vos for goBs  Words: 6",
         "N14903K",
         "6.0",
         "going Awt on gisnistiter'vos for goBs  Words: 6",
         "8"
        ],
        [
         "791",
         "ID: N11244K----------------------Breed DogsShow JumPerKennl maidAd  Words: 4",
         "N11244K",
         "4.0",
         "Breed DogsShow JumPerKennl maidAd  Words: 4",
         "6"
        ],
        [
         "800",
         "ID: N26406L----------------------I am now 25 years old and I have a wife .I live in a country cottage with a garden.I have a labrador .a car witha burglar alarm ,and  Words: 29",
         "N26406L",
         "29.0",
         "I am now 25 years old and I have a wife .I live in a country cottage with a garden.I have a labrador .a car witha burglar alarm ,and  Words: 29",
         "31"
        ],
        [
         "819",
         "ID: N15083C----------------------I will like to be are Nurse went I grow up....I am a Nurse.. I live in* are house call.a horttel. on my own. and after ..I bot* a house for. 2005.  Words: 32",
         "N15083C",
         "32.0",
         "I will like to be are Nurse went I grow up....I am a Nurse.. I live in* are house call.a horttel. on my own. and after ..I bot* a house for. 2005.  Words: 32",
         "34"
        ],
        [
         "839",
         "ID: N28135Q----------------------Now I am 25 I will look after cats, Horses, Dogs and other anamals and I will feed them every day. Soon I am going to live in a new house.  Words: 31",
         "N28135Q",
         "31.0",
         "Now I am 25 I will look after cats, Horses, Dogs and other anamals and I will feed them every day. Soon I am going to live in a new house.  Words: 31",
         "33"
        ],
        [
         "870",
         "ID: N22467H----------------------I am going to be a poLisman caching cRooks I am Not going to be a z caR manI am going to Walk about The StReet in [city]  Words: 28",
         "N22467H",
         "28.0",
         "I am going to be a poLisman caching cRooks I am Not going to be a z caR manI am going to Walk about The StReet in [city]  Words: 28",
         "30"
        ],
        [
         "958",
         "ID: N12739H----------------------I work at [company",
         "N12739H",
         null,
         "I work at [company",
         "4"
        ],
        [
         "986",
         "ID: N23403V----------------------I wod have a god looking after animalls  ' and have a office god in my spair time I wod like to Be a vet are Stamp colecter' and I wd live in [road] and I wd have a pet dog as a pet  Words: 44",
         "N23403V",
         "44.0",
         "I wod have a god looking after animalls  ' and have a office god in my spair time I wod like to Be a vet are Stamp colecter' and I wd live in [road] and I wd have a pet dog as a pet  Words: 44",
         "46"
        ],
        [
         "990",
         "ID: N14962W----------------------I would be working as a nurse and I got maried to a docoter and we will be happy all the time we will never have a rou togeter and we will look after the chidren that we have.  Words: 39",
         "N14962W",
         "39.0",
         "I would be working as a nurse and I got maried to a docoter and we will be happy all the time we will never have a rou togeter and we will look after the chidren that we have.  Words: 39",
         "41"
        ],
        [
         "1029",
         "ID: N15979K----------------------I am going to be a nurse when I grow up. And Cook at home. I work in [hospital name] hosple. And when I have time of I watch tv and read my [hospital name] book and nursing book.  Words: 39",
         "N15979K",
         "39.0",
         "I am going to be a nurse when I grow up. And Cook at home. I work in [hospital name] hosple. And when I have time of I watch tv and read my [hospital name] book and nursing book.  Words: 39",
         "41"
        ],
        [
         "1037",
         "ID: N25903U----------------------When I am about 25 I would like to be in the armay because you can clime rope walls you can drive tanks lean how to use a rifle and sometimes go a diffren cuntrys and swining across water on ropes  Words: 41",
         "N25903U",
         "41.0",
         "When I am about 25 I would like to be in the armay because you can clime rope walls you can drive tanks lean how to use a rifle and sometimes go a diffren cuntrys and swining across water on ropes  Words: 41",
         "43"
        ],
        [
         "1109",
         "ID: N19607A----------------------i am a goole we am at home ie go to hat diger we i has mi sger tim i go to the sen sed  Words: 25",
         "N19607A",
         "25.0",
         "i am a goole we am at home ie go to hat diger we i has mi sger tim i go to the sen sed  Words: 25",
         "27"
        ],
        [
         "1158",
         "ID: N26807Z----------------------My life at work is for and I be a forman and at home I word mark shal and Cubderdes. My interests word be cultting thing and a car for ford and in my sher time I want to be a football **ld.  Words: 43",
         "N26807Z",
         "43.0",
         "My life at work is for and I be a forman and at home I word mark shal and Cubderdes. My interests word be cultting thing and a car for ford and in my sher time I want to be a football **ld.  Words: 43",
         "45"
        ],
        [
         "1181",
         "ID: N22641D----------------------I am [male name] [surname] and I am 25 years old and am going to be a football player. At [place name] e*y and I am going for a jod to be a roofelrt*.  Words: 34",
         "N22641D",
         "34.0",
         "I am [male name] [surname] and I am 25 years old and am going to be a football player. At [place name] e*y and I am going for a jod to be a roofelrt*.  Words: 34",
         "36"
        ],
        [
         "1284",
         "ID: N17554W----------------------I am leading an ordinary life I,ve got a JoB I am married  Words: 13",
         "N17554W",
         "13.0",
         "I am leading an ordinary life I,ve got a JoB I am married  Words: 13",
         "15"
        ],
        [
         "1316",
         "ID: N17385X----------------------I am ging to wurk in the aromy my hous is (place) and and pante* and my mumy is goting a new ** craper ond new chayrs and a new ciush and wen I am in the oroy I wihh Be tranen  Words: 42",
         "N17385X",
         "42.0",
         "I am ging to wurk in the aromy my hous is (place) and and pante* and my mumy is goting a new ** craper ond new chayrs and a new ciush and wen I am in the oroy I wihh Be tranen  Words: 42",
         "44"
        ],
        [
         "1330",
         "ID: N14720E----------------------I like to be a football for Manchester unied and get maride to a bloned women I would like to live in [xxxxxxx]. where my couses lives and get a gage caer sinder with gold spray on the top.  Words: 39",
         "N14720E",
         "39.0",
         "I like to be a football for Manchester unied and get maride to a bloned women I would like to live in [xxxxxxx]. where my couses lives and get a gage caer sinder with gold spray on the top.  Words: 39",
         "41"
        ],
        [
         "1376",
         "ID: N17100U----------------------My interests are medicanes, Engemering, cranes and bulldosers, I live on my own and I am not married I collect model airoplanes and models of important people I deckorate houses with the corparation and help build houses.  Words: 37",
         "N17100U",
         "37.0",
         "My interests are medicanes, Engemering, cranes and bulldosers, I live on my own and I am not married I collect model airoplanes and models of important people I deckorate houses with the corparation and help build houses.  Words: 37",
         "39"
        ],
        [
         "1420",
         "ID: N13910E----------------------I am now a farmer my work Consists of farming milking the cows, Cutting the grass, and planting corn. I like to listen to pop records and watch T.V. My intrests are Archery.  Words: 33",
         "N13910E",
         "33.0",
         "I am now a farmer my work Consists of farming milking the cows, Cutting the grass, and planting corn. I like to listen to pop records and watch T.V. My intrests are Archery.  Words: 33",
         "35"
        ],
        [
         "1449",
         "ID: N17383V----------------------I would like to be in a house helping and looking after babies.I would like to work in a house all of my own and make some things myself to put along to walls and paper and paint the house by myself.  Words: 42",
         "N17383V",
         "42.0",
         "I would like to be in a house helping and looking after babies.I would like to work in a house all of my own and make some things myself to put along to walls and paper and paint the house by myself.  Words: 42",
         "44"
        ],
        [
         "1458",
         "ID: N22705C----------------------Leaving Home.getting a JoB.getting engaged.getting married.Having children.Having a new House.getting a pet for children.getting children in to school.move ing to Scotlandgetting another JoBor work at Homeor get Job on P.O SA.  Words: 31",
         "N22705C",
         "31.0",
         "Leaving Home.getting a JoB.getting engaged.getting married.Having children.Having a new House.getting a pet for children.getting children in to school.move ing to Scotlandgetting another JoBor work at Homeor get Job on P.O SA.  Words: 31",
         "33"
        ],
        [
         "1469",
         "ID: N12910A----------------------I am 25 yes old and I woch televishon a lot and I go out to nit dusses and iy am a ners and I werk part im in the hospitel an ****ayes I hav thse moning of* and at 2oclok  Words: 41",
         "N12910A",
         "41.0",
         "I am 25 yes old and I woch televishon a lot and I go out to nit dusses and iy am a ners and I werk part im in the hospitel an ****ayes I hav thse moning of* and at 2oclok  Words: 41",
         "43"
        ],
        [
         "1520",
         "ID: N24795E----------------------I am a moter mechanic at a garage, that is because I like complicated work. my interests are watching football on TV I like Chips, sausages, roast potatoes, mashed potatoes. luncheon meat, beef and meat pie and mince pies  Words: 39",
         "N24795E",
         "39.0",
         "I am a moter mechanic at a garage, that is because I like complicated work. my interests are watching football on TV I like Chips, sausages, roast potatoes, mashed potatoes. luncheon meat, beef and meat pie and mince pies  Words: 39",
         "41"
        ],
        [
         "1552",
         "ID: N24742R----------------------The life I am leading is football and swimming. And going out with girls swimming *laying and talking to fr*ends listing to pop music  Words: 24",
         "N24742R",
         "24.0",
         "The life I am leading is football and swimming. And going out with girls swimming *laying and talking to fr*ends listing to pop music  Words: 24",
         "26"
        ],
        [
         "1573",
         "ID: N26733Y----------------------Wen I an 25 I well srt wre I well Be a Milk-man I well get Mred one wif and to Kis I liv in ok  Words: 26",
         "N26733Y",
         "26.0",
         "Wen I an 25 I well srt wre I well Be a Milk-man I well get Mred one wif and to Kis I liv in ok  Words: 26",
         "28"
        ],
        [
         "1578",
         "ID: N28457F----------------------I work at a Beautician. I have no childen.I like house work.I like childen.I have no hI am a p time typistSometime I do knitting for me n nI Might get MI Migh have childenI p stop* in London.  Words: 39",
         "N28457F",
         "39.0",
         "I work at a Beautician. I have no childen.I like house work.I like childen.I have no hI am a p time typistSometime I do knitting for me n nI Might get MI Migh have childenI p stop* in London.  Words: 39",
         "41"
        ],
        [
         "1582",
         "ID: N15189M----------------------I ham a Bu**** and I like it,I ham mared and I have caremy wife gos to whak in a haspital she is A nurseI Be goin on some holdays wellser ******  Words: 32",
         "N15189M",
         "32.0",
         "I ham a Bu**** and I like it,I ham mared and I have caremy wife gos to whak in a haspital she is A nurseI Be goin on some holdays wellser ******  Words: 32",
         "34"
        ],
        [
         "1598",
         "ID: N27173S----------------------I would lineta look after aunt house and dathehsopping a Lie and a  Words: 13",
         "N27173S",
         "13.0",
         "I would lineta look after aunt house and dathehsopping a Lie and a  Words: 13",
         "15"
        ],
        [
         "1665",
         "ID: N22187C----------------------My hobbe is collect stamps now how mure* stamps Batlea of Hasting. Batlea ten* 1940 war, head of queen* Eaghearthe the first and the seconed head's, kind Carles four stamse, two stamps of two larlale* winsdore castle  Words: 37",
         "N22187C",
         "37.0",
         "My hobbe is collect stamps now how mure* stamps Batlea of Hasting. Batlea ten* 1940 war, head of queen* Eaghearthe the first and the seconed head's, kind Carles four stamse, two stamps of two larlale* winsdore castle  Words: 37",
         "39"
        ],
        [
         "1757",
         "ID: N11602M----------------------Be a Top Ster go out and bye nice cloth*e*.  Words: 10",
         "N11602M",
         "10.0",
         "Be a Top Ster go out and bye nice cloth*e*.  Words: 10",
         "12"
        ]
       ],
       "shape": {
        "columns": 5,
        "rows": 332
       }
      },
      "text/html": [
       "<div>\n",
       "<style scoped>\n",
       "    .dataframe tbody tr th:only-of-type {\n",
       "        vertical-align: middle;\n",
       "    }\n",
       "\n",
       "    .dataframe tbody tr th {\n",
       "        vertical-align: top;\n",
       "    }\n",
       "\n",
       "    .dataframe thead th {\n",
       "        text-align: right;\n",
       "    }\n",
       "</style>\n",
       "<table border=\"1\" class=\"dataframe\">\n",
       "  <thead>\n",
       "    <tr style=\"text-align: right;\">\n",
       "      <th></th>\n",
       "      <th>Text</th>\n",
       "      <th>ID</th>\n",
       "      <th>Words</th>\n",
       "      <th>cleaned_text</th>\n",
       "      <th>word_count</th>\n",
       "    </tr>\n",
       "  </thead>\n",
       "  <tbody>\n",
       "    <tr>\n",
       "      <th>5</th>\n",
       "      <td>ID: N11188U----------------------My work as an...</td>\n",
       "      <td>N11188U</td>\n",
       "      <td>42.0</td>\n",
       "      <td>My work as an hair dresser is very nice and I ...</td>\n",
       "      <td>44</td>\n",
       "    </tr>\n",
       "    <tr>\n",
       "      <th>69</th>\n",
       "      <td>ID: N17869N----------------------When I leave ...</td>\n",
       "      <td>N17869N</td>\n",
       "      <td>43.0</td>\n",
       "      <td>When I leave school I would like to be a owene...</td>\n",
       "      <td>45</td>\n",
       "    </tr>\n",
       "    <tr>\n",
       "      <th>159</th>\n",
       "      <td>ID: N12659J----------------------go to werk an...</td>\n",
       "      <td>N12659J</td>\n",
       "      <td>6.0</td>\n",
       "      <td>go to werk and go abod  Words: 6</td>\n",
       "      <td>8</td>\n",
       "    </tr>\n",
       "    <tr>\n",
       "      <th>176</th>\n",
       "      <td>ID: N17104Y----------------------I would like ...</td>\n",
       "      <td>N17104Y</td>\n",
       "      <td>39.0</td>\n",
       "      <td>I would like to live in another cottage and ha...</td>\n",
       "      <td>41</td>\n",
       "    </tr>\n",
       "    <tr>\n",
       "      <th>262</th>\n",
       "      <td>ID: N11423L----------------------the softead O...</td>\n",
       "      <td>N11423L</td>\n",
       "      <td>22.0</td>\n",
       "      <td>the softead Omoni'tie wod ron bae the polq rod...</td>\n",
       "      <td>24</td>\n",
       "    </tr>\n",
       "    <tr>\n",
       "      <th>...</th>\n",
       "      <td>...</td>\n",
       "      <td>...</td>\n",
       "      <td>...</td>\n",
       "      <td>...</td>\n",
       "      <td>...</td>\n",
       "    </tr>\n",
       "    <tr>\n",
       "      <th>10436</th>\n",
       "      <td>ID: N16512G----------------------\"\"\"I am 25 ye...</td>\n",
       "      <td>N16512G</td>\n",
       "      <td>43.0</td>\n",
       "      <td>\"\"\"I am 25 year's of age,\"\" \"\"I worck as an en...</td>\n",
       "      <td>45</td>\n",
       "    </tr>\n",
       "    <tr>\n",
       "      <th>10439</th>\n",
       "      <td>ID: N13477J----------------------I just Can't ...</td>\n",
       "      <td>N13477J</td>\n",
       "      <td>19.0</td>\n",
       "      <td>I just Can't imagine what would happen to me b...</td>\n",
       "      <td>21</td>\n",
       "    </tr>\n",
       "    <tr>\n",
       "      <th>10449</th>\n",
       "      <td>ID: N25226E----------------------My life is ab...</td>\n",
       "      <td>N25226E</td>\n",
       "      <td>11.0</td>\n",
       "      <td>My life is about home. I like to work hat home...</td>\n",
       "      <td>13</td>\n",
       "    </tr>\n",
       "    <tr>\n",
       "      <th>10463</th>\n",
       "      <td>ID: N14353B----------------------Now Iam 25 ye...</td>\n",
       "      <td>N14353B</td>\n",
       "      <td>16.0</td>\n",
       "      <td>Now Iam 25 year's old Iam going TO be a Aircra...</td>\n",
       "      <td>18</td>\n",
       "    </tr>\n",
       "    <tr>\n",
       "      <th>10477</th>\n",
       "      <td>ID: N11179T----------------------When I am at ...</td>\n",
       "      <td>N11179T</td>\n",
       "      <td>39.0</td>\n",
       "      <td>When I am at work I will be clang trains. and ...</td>\n",
       "      <td>41</td>\n",
       "    </tr>\n",
       "  </tbody>\n",
       "</table>\n",
       "<p>332 rows × 5 columns</p>\n",
       "</div>"
      ],
      "text/plain": [
       "                                                    Text       ID  Words  \\\n",
       "5      ID: N11188U----------------------My work as an...  N11188U   42.0   \n",
       "69     ID: N17869N----------------------When I leave ...  N17869N   43.0   \n",
       "159    ID: N12659J----------------------go to werk an...  N12659J    6.0   \n",
       "176    ID: N17104Y----------------------I would like ...  N17104Y   39.0   \n",
       "262    ID: N11423L----------------------the softead O...  N11423L   22.0   \n",
       "...                                                  ...      ...    ...   \n",
       "10436  ID: N16512G----------------------\"\"\"I am 25 ye...  N16512G   43.0   \n",
       "10439  ID: N13477J----------------------I just Can't ...  N13477J   19.0   \n",
       "10449  ID: N25226E----------------------My life is ab...  N25226E   11.0   \n",
       "10463  ID: N14353B----------------------Now Iam 25 ye...  N14353B   16.0   \n",
       "10477  ID: N11179T----------------------When I am at ...  N11179T   39.0   \n",
       "\n",
       "                                            cleaned_text  word_count  \n",
       "5      My work as an hair dresser is very nice and I ...          44  \n",
       "69     When I leave school I would like to be a owene...          45  \n",
       "159                     go to werk and go abod  Words: 6           8  \n",
       "176    I would like to live in another cottage and ha...          41  \n",
       "262    the softead Omoni'tie wod ron bae the polq rod...          24  \n",
       "...                                                  ...         ...  \n",
       "10436  \"\"\"I am 25 year's of age,\"\" \"\"I worck as an en...          45  \n",
       "10439  I just Can't imagine what would happen to me b...          21  \n",
       "10449  My life is about home. I like to work hat home...          13  \n",
       "10463  Now Iam 25 year's old Iam going TO be a Aircra...          18  \n",
       "10477  When I am at work I will be clang trains. and ...          41  \n",
       "\n",
       "[332 rows x 5 columns]"
      ]
     },
     "execution_count": 48,
     "metadata": {},
     "output_type": "execute_result"
    }
   ],
   "source": [
    "df_tmp"
   ]
  }
 ],
 "metadata": {
  "kernelspec": {
   "display_name": "py311",
   "language": "python",
   "name": "python3"
  },
  "language_info": {
   "codemirror_mode": {
    "name": "ipython",
    "version": 3
   },
   "file_extension": ".py",
   "mimetype": "text/x-python",
   "name": "python",
   "nbconvert_exporter": "python",
   "pygments_lexer": "ipython3",
   "version": "3.11.9"
  }
 },
 "nbformat": 4,
 "nbformat_minor": 2
}
