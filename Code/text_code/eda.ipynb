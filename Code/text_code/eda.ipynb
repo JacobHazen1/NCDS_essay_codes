{
 "cells": [
  {
   "cell_type": "code",
   "execution_count": 1,
   "metadata": {},
   "outputs": [],
   "source": [
    "import pandas as pd\n",
    "import numpy as np\n",
    "import matplotlib.pyplot as plt\n",
    "import seaborn as sns\n",
    "import os"
   ]
  },
  {
   "cell_type": "code",
   "execution_count": 2,
   "metadata": {},
   "outputs": [],
   "source": [
    "df_essay=pd.read_csv('/home/semipro321/OneDrive/School/McGill/Research Projects/Essay/Data/essay11/raw_all_essays.csv')"
   ]
  },
  {
   "cell_type": "code",
   "execution_count": 3,
   "metadata": {},
   "outputs": [
    {
     "data": {
      "text/plain": [
       "0        Iam 25 years old. YEsterday I got a car for my...\n",
       "1        I am 25 years old I am Growing up and I am sta...\n",
       "2        I would be married. I would be a school teache...\n",
       "3        I am 25 years old and I am training to be a ve...\n",
       "4        I am an air hostess. I go to interesting place...\n",
       "                               ...                        \n",
       "10504    I am just starting a new job and I work eight ...\n",
       "10505    I have a wife a four children I have a good Jo...\n",
       "10506    Helo my name is [name] I am 25 years of age I ...\n",
       "10507    I am 25 years of age, my job is working in a b...\n",
       "10508    \"I am now 25 years old I am a cartoonist for t...\n",
       "Name: cleaned_text, Length: 10509, dtype: object"
      ]
     },
     "execution_count": 3,
     "metadata": {},
     "output_type": "execute_result"
    }
   ],
   "source": [
    "df_essay['cleaned_text']"
   ]
  },
  {
   "cell_type": "code",
   "execution_count": 4,
   "metadata": {},
   "outputs": [],
   "source": [
    "df_sample = df_essay.sample(10)"
   ]
  },
  {
   "cell_type": "code",
   "execution_count": 5,
   "metadata": {},
   "outputs": [],
   "source": [
    "import language_tool_python\n",
    "tool = language_tool_python.LanguageTool('en-GB')  "
   ]
  },
  {
   "cell_type": "code",
   "execution_count": 11,
   "metadata": {},
   "outputs": [],
   "source": [
    "text = \"When I am 25 chemistry is important to me because it is what I am going to do. (I hope) I would live in a semi detached house with three bed-rooms. I hope to have a family and only two children. I would leave my children in the care of a redistrad child minder while I go to work. I will learn to drive and have a car. (a Estate car if possible) I would come home from work at half past 4 and get tea ready. I would pay the child minder 3 a week. (or 3005 because of the decimal system) When my children go to school I would help them a little bit (not to much) with they home work at weekends we shall go down to the forset. (on Saturday_ and have picnics. For birthday treats I will let my children pick were they want to go I would let there imagenation ran free and won't laugh at them if they belive in fairys I will let the pick there own holidays. (as long as there not to expensiv BUT I wouldnt let them run to free. I would care and look after them untill they are to old to be looked after when they have a family I would help them all I can I would'nt fuss to much at all. and I'd let them had a wonderfull and exicinting life.\""
   ]
  },
  {
   "cell_type": "code",
   "execution_count": 12,
   "metadata": {},
   "outputs": [
    {
     "data": {
      "text/plain": [
       "\"When I am 25 chemistry is important to me because it is what I am going to do. (I hope) I would live in a semi-detached house with three bed-rooms. I hope to have a family and only two children. I would leave my children in the care of a registrar child minder while I go to work. Furthermore, I will learn to drive and have a car. (an Estate car if possible) I would come home from work at half past 4 and get tea ready. I would pay the child minder 3 a week. (or 3005 because of the decimal system) When my children go to school I would help them a little bit (not too much) with they homework at weekends we shall go down to the forest. (on Saturday_ and have picnics. For birthday treats I will let my children pick were they want to go I would let there imagination ran free and won't laugh at them if they believe in fairies I will let the pick their own holidays. (as long as there not to expensive BUT I wouldn't let them run to free. I would care and look after them until they are too old to be looked after when they have a family I would help them all I can, I wouldn't fuss too much at all. And I'd let them had a wonderful and exciting life.\""
      ]
     },
     "execution_count": 12,
     "metadata": {},
     "output_type": "execute_result"
    }
   ],
   "source": [
    "tool.correct(text)"
   ]
  },
  {
   "cell_type": "code",
   "execution_count": 22,
   "metadata": {},
   "outputs": [
    {
     "name": "stdout",
     "output_type": "stream",
     "text": [
      "I love i my 25 years old. we all the same, a i I was. PJ in the home in the house 3, in my home I get in the mon en I get the key in the mon en I get my head up of wek at sckot My house is wait for ne 20 en I had a tea of mere I at a Sikaimukusto I was up in my tan I go up in of sgois in the park My husepd sos to the wek in shops I go to bed at nat my husband is a [s] to little girl is a are me en I am a is lid I go on in at home in the shop to be kind of enemo we are. But to et a go on in the car to sesd vet ish to nad li to go on a ride to the woods at the get  Words.\n"
     ]
    }
   ],
   "source": [
    "import spacy\n",
    "import contextualSpellCheck\n",
    "import concurrent.futures\n",
    "\n",
    "\n",
    "# Load the spaCy model and add the contextual spell checker\n",
    "nlp = spacy.load('en_core_web_md')\n",
    "nlp.max_length = 1500000  # Set this to a value that fits your needs\n",
    "contextualSpellCheck.add_to_pipe(nlp)\n",
    "# Function to split text into chunks (e.g., sentences)\n",
    "def split_text_into_chunks(text, chunk_size=1000):\n",
    "    sentences = text.split('.')\n",
    "    chunks = []\n",
    "    current_chunk = \"\"\n",
    "    for sentence in sentences:\n",
    "        if len(current_chunk) + len(sentence) > chunk_size:\n",
    "            chunks.append(current_chunk)\n",
    "            current_chunk = sentence + '.'\n",
    "        else:\n",
    "            current_chunk += sentence + '.'\n",
    "    chunks.append(current_chunk)\n",
    "    return chunks\n",
    "\n",
    "# Process each chunk and handle the spell check outcome\n",
    "def process_chunk(chunk):\n",
    "    doc = nlp(chunk)\n",
    "    # Check if spell check was performed and return the corrected text\n",
    "    return doc._.outcome_spellCheck if doc._.performed_spellCheck else chunk\n",
    "\n",
    "# Process large text in parallel\n",
    "def process_large_text_parallel(text):\n",
    "    chunks = split_text_into_chunks(text)\n",
    "    corrected_chunks = []\n",
    "    with concurrent.futures.ThreadPoolExecutor() as executor:\n",
    "        # Map each chunk to process_chunk and collect results\n",
    "        results = executor.map(process_chunk, chunks)\n",
    "        # Collect the corrected chunks\n",
    "        corrected_chunks = list(results)\n",
    "    return ' '.join(corrected_chunks)\n",
    "\n",
    "# Example essay text\n",
    "\n",
    "essay_text = \"I moserm i my 25 years old ken we all the pisinmy sek a i I was. PJ in the home in the kisn 3 Perws in my home I get upin the mon en I get the Bets in the mon en I get my hsp up of wek at sckot My house is wait for ne 20 en I mak a tea of me serm mif I at a Sikaimukusto I was up in my tan I go sop in of sgois in the shars My husepd sos to the wek in shops I go to bed at nat my husDd is Mr [xxxxxxx] to little girl is mary are segin en I am a is lid I go sop in at gois in the shop to weall irned of enemo we are eggof Brs to et wekan go ar in the car to sesd vet is somhorse to nad li to go on a riad to the woods at the get  Words\"\n",
    "# Correct the text in parallel\n",
    "corrected_essay_parallel = process_large_text_parallel(essay_text)\n",
    "print(corrected_essay_parallel)\n"
   ]
  },
  {
   "cell_type": "code",
   "execution_count": 14,
   "metadata": {},
   "outputs": [
    {
     "name": "stdout",
     "output_type": "stream",
     "text": [
      "True\n",
      "When I am 25 chemistry is important to me because it is what I am going to do. (I hope) I would live in a semi detached house with three bed-rooms. I hope to have a family and only two children. I would leave my children in the care of a dedicated child mother while I go to work. I will learn to drive and have a car. (a Estate car if possible) I would come home from work at half past 4 and get tea ready. I would pay the child in 3 a week. (or 3005 because of the metric system) When my children go to school I would help them a little bit (not to much) with they home work at weekends we shall go down to the farm. (on the_ and have lunch. For birthday treats I will let my children pick were they want to go I would let there that ran free and 'n't laugh at them if they believe in tears I will let the pick there own holidays. (as long as there not to be BUT I wouldnot let them run to free. I would care and look after them all they are to old to be looked after when they have a family I would help them all I can I would not to much at all. and I'd let them had a normal and exciting life.\n"
     ]
    }
   ],
   "source": [
    "doc = nlp(text)\n",
    "\n",
    "\n",
    "print(doc._.performed_spellCheck) #Should be True\n",
    "print(doc._.outcome_spellCheck) #Performs the correction\n"
   ]
  },
  {
   "cell_type": "code",
   "execution_count": null,
   "metadata": {},
   "outputs": [],
   "source": []
  }
 ],
 "metadata": {
  "kernelspec": {
   "display_name": "py311",
   "language": "python",
   "name": "python3"
  },
  "language_info": {
   "codemirror_mode": {
    "name": "ipython",
    "version": 3
   },
   "file_extension": ".py",
   "mimetype": "text/x-python",
   "name": "python",
   "nbconvert_exporter": "python",
   "pygments_lexer": "ipython3",
   "version": "3.11.9"
  }
 },
 "nbformat": 4,
 "nbformat_minor": 2
}
